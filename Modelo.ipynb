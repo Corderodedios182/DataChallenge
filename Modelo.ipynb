{
 "cells": [
  {
   "cell_type": "markdown",
   "id": "3937820b-16ae-4828-bf15-1d0695681101",
   "metadata": {},
   "source": [
    "**Objetivo de este problema es determinar los factores que pueden llevar a los concesionarios a cumplir con los objetivos de satisfacción mínima.**\n",
    "\n",
    "Datos *deIiveryDatasetChaIlenge.json* incluye datos de 29,389 rutas de camiones, realizadas por 29,389 empleados con las siguientes variables : \n",
    "\n",
    "**Primeras 10 columnas**\n",
    "\n",
    "- **anonId:** Identificador único de la ruta\n",
    "- **birthdate:** Fecha de nacimiento del empleado\n",
    "- **routeDate:** Día en que se realizó la ruta entre el 20/05/11 y el 20/05/22\n",
    "- **region:** Zona del mundo donde se ejecutó la ruta:\n",
    "    - NA: North America\n",
    "    - AMESA: Africa, Middle East and South Asia\n",
    "    - APAC: Asia Pacific, Australia/New Zealand, and China \n",
    "    - LATAM: Latin America\n",
    "    - Europe\n",
    "- **gender:** Género autodeterminado del empleado {F-Female, M-Male, X-Non binary}\n",
    "- **areaWealthLevel:** Desarrollo de la zona económica, en comparación con el conjunto del país (Low, Mid or High)\n",
    "- **areaPopulation:** Población de la zona cubierta, en miles\n",
    "- **badWeather:** Malas condiciones meteorológicas en la zona, como precipitaciones o viento fuerte\n",
    "- **weatheRestrictions:** Afectaciones en la zona debido al clima\n",
    "- **routeTotalDistance:** Distancia de la ruta recorrida en kms\n",
    "\n",
    "**Segundo set de columnas**\n",
    "\n",
    "- **numberOfShops:** Total Tiendas que cubrimos en la zona\n",
    "- **marketShare:** Porcentaje de cuota de mercado que la empresa tiene en la zona en sus categorías.\n",
    "- **avgAreaBenefits:** Beneficio económico semanal en la zona (en miles de $)\n",
    "- **timeFromAvg:** Tiempo empleado en la ruta, comparado con la media (negativo significaría que se tardó menos que la media\n",
    "- **advertising:** Inversión en material de punto de venta en las tiendas (de 0, que significa que no se invierte, a 3, que se invierte mucho)\n",
    "- **emoloyeeLYScore:** Calificando la puntuación del año pasado (de 1 a 5, siendo 5 la más alta). Los nuevos empleados tienen 3 por defecto.\n",
    "- **employeeTenure:** Tiempo que el empleado lleva en la empresa\n",
    "  - 0: se han incorporado en los últimos 12 meses \n",
    "  - 1: de 1 a 3 años\n",
    "  - 2: de 3 a 10 años\n",
    "  - 3: mas de 1O años\n",
    "- **emploIoyeePrevComps:** Número de empresas en las que el empleado trabajó anteriormente desarrollando la misma función (5 significa 3 o más).\n",
    "- **success:** El distribuidor ha distribuido al menos el valor esperado (1) o menos (0)"
   ]
  },
  {
   "cell_type": "code",
   "execution_count": 94,
   "id": "968f7b7d-5960-4e18-a2c6-6bed5fe08734",
   "metadata": {
    "tags": []
   },
   "outputs": [
    {
     "name": "stdout",
     "output_type": "stream",
     "text": [
      "Type: <class 'dict'>\n"
     ]
    },
    {
     "data": {
      "text/html": [
       "<div>\n",
       "<style scoped>\n",
       "    .dataframe tbody tr th:only-of-type {\n",
       "        vertical-align: middle;\n",
       "    }\n",
       "\n",
       "    .dataframe tbody tr th {\n",
       "        vertical-align: top;\n",
       "    }\n",
       "\n",
       "    .dataframe thead th {\n",
       "        text-align: right;\n",
       "    }\n",
       "</style>\n",
       "<table border=\"1\" class=\"dataframe\">\n",
       "  <thead>\n",
       "    <tr style=\"text-align: right;\">\n",
       "      <th></th>\n",
       "      <th>anonID</th>\n",
       "      <th>birthdate</th>\n",
       "      <th>routeDate</th>\n",
       "      <th>region</th>\n",
       "      <th>gender</th>\n",
       "      <th>areaWealthLevel</th>\n",
       "      <th>areaPopulation</th>\n",
       "      <th>badWeather</th>\n",
       "      <th>weatherRestrictions</th>\n",
       "      <th>routeTotalDistance</th>\n",
       "      <th>numberOfShops</th>\n",
       "      <th>marketShare</th>\n",
       "      <th>avgAreaBenefits</th>\n",
       "      <th>timeFromAvg</th>\n",
       "      <th>advertising</th>\n",
       "      <th>employeeLYScore</th>\n",
       "      <th>employeeTenure</th>\n",
       "      <th>employeePrevComps</th>\n",
       "      <th>success</th>\n",
       "    </tr>\n",
       "  </thead>\n",
       "  <tbody>\n",
       "    <tr>\n",
       "      <th>0</th>\n",
       "      <td>XLKC1691</td>\n",
       "      <td>23/10/1969</td>\n",
       "      <td>19/05/2020</td>\n",
       "      <td>NA</td>\n",
       "      <td>M</td>\n",
       "      <td>Mid</td>\n",
       "      <td>30.66</td>\n",
       "      <td>No</td>\n",
       "      <td>No</td>\n",
       "      <td>28.3</td>\n",
       "      <td>26</td>\n",
       "      <td>49</td>\n",
       "      <td>18.9</td>\n",
       "      <td>0.35</td>\n",
       "      <td>3</td>\n",
       "      <td>4</td>\n",
       "      <td>1</td>\n",
       "      <td>1</td>\n",
       "      <td>NA</td>\n",
       "    </tr>\n",
       "    <tr>\n",
       "      <th>1</th>\n",
       "      <td>KANY6459</td>\n",
       "      <td>14/04/1976</td>\n",
       "      <td>19/05/2020</td>\n",
       "      <td>LATAM</td>\n",
       "      <td>M</td>\n",
       "      <td>Mid</td>\n",
       "      <td>52.5</td>\n",
       "      <td>No</td>\n",
       "      <td>No</td>\n",
       "      <td>21.3</td>\n",
       "      <td>28</td>\n",
       "      <td>96</td>\n",
       "      <td>14.28</td>\n",
       "      <td>0.47</td>\n",
       "      <td>3</td>\n",
       "      <td>4</td>\n",
       "      <td>3</td>\n",
       "      <td>2</td>\n",
       "      <td>NA</td>\n",
       "    </tr>\n",
       "    <tr>\n",
       "      <th>2</th>\n",
       "      <td>ULUZ5859</td>\n",
       "      <td>03/04/1985</td>\n",
       "      <td>NA</td>\n",
       "      <td>NA</td>\n",
       "      <td>M</td>\n",
       "      <td>High</td>\n",
       "      <td>25.08</td>\n",
       "      <td>Yes</td>\n",
       "      <td>No</td>\n",
       "      <td>25.9</td>\n",
       "      <td>25</td>\n",
       "      <td>76</td>\n",
       "      <td>14.01</td>\n",
       "      <td>NA</td>\n",
       "      <td>2</td>\n",
       "      <td>3</td>\n",
       "      <td>1</td>\n",
       "      <td>1</td>\n",
       "      <td>NA</td>\n",
       "    </tr>\n",
       "    <tr>\n",
       "      <th>3</th>\n",
       "      <td>LDCQ7279</td>\n",
       "      <td>24/03/1968</td>\n",
       "      <td>11/05/2020</td>\n",
       "      <td>NA</td>\n",
       "      <td>M</td>\n",
       "      <td>Mid</td>\n",
       "      <td>37.14</td>\n",
       "      <td>No</td>\n",
       "      <td>No</td>\n",
       "      <td>24.3</td>\n",
       "      <td>26</td>\n",
       "      <td>65</td>\n",
       "      <td>19.2</td>\n",
       "      <td>-0.37</td>\n",
       "      <td>2</td>\n",
       "      <td>4</td>\n",
       "      <td>3</td>\n",
       "      <td>2</td>\n",
       "      <td>NA</td>\n",
       "    </tr>\n",
       "    <tr>\n",
       "      <th>4</th>\n",
       "      <td>KIUB5860</td>\n",
       "      <td>22/04/1978</td>\n",
       "      <td>19/05/2020</td>\n",
       "      <td>AMESA</td>\n",
       "      <td>M</td>\n",
       "      <td>Low</td>\n",
       "      <td>11.71</td>\n",
       "      <td>No</td>\n",
       "      <td>No</td>\n",
       "      <td>22.7</td>\n",
       "      <td>22</td>\n",
       "      <td>72</td>\n",
       "      <td>12.37</td>\n",
       "      <td>0.44</td>\n",
       "      <td>2</td>\n",
       "      <td>3</td>\n",
       "      <td>3</td>\n",
       "      <td>2</td>\n",
       "      <td>NA</td>\n",
       "    </tr>\n",
       "  </tbody>\n",
       "</table>\n",
       "</div>"
      ],
      "text/plain": [
       "     anonID   birthdate   routeDate region gender areaWealthLevel  \\\n",
       "0  XLKC1691  23/10/1969  19/05/2020     NA      M             Mid   \n",
       "1  KANY6459  14/04/1976  19/05/2020  LATAM      M             Mid   \n",
       "2  ULUZ5859  03/04/1985          NA     NA      M            High   \n",
       "3  LDCQ7279  24/03/1968  11/05/2020     NA      M             Mid   \n",
       "4  KIUB5860  22/04/1978  19/05/2020  AMESA      M             Low   \n",
       "\n",
       "  areaPopulation badWeather weatherRestrictions routeTotalDistance  \\\n",
       "0          30.66         No                  No               28.3   \n",
       "1           52.5         No                  No               21.3   \n",
       "2          25.08        Yes                  No               25.9   \n",
       "3          37.14         No                  No               24.3   \n",
       "4          11.71         No                  No               22.7   \n",
       "\n",
       "  numberOfShops marketShare avgAreaBenefits timeFromAvg advertising  \\\n",
       "0            26          49            18.9        0.35           3   \n",
       "1            28          96           14.28        0.47           3   \n",
       "2            25          76           14.01          NA           2   \n",
       "3            26          65            19.2       -0.37           2   \n",
       "4            22          72           12.37        0.44           2   \n",
       "\n",
       "  employeeLYScore employeeTenure employeePrevComps success  \n",
       "0               4              1                 1      NA  \n",
       "1               4              3                 2      NA  \n",
       "2               3              1                 1      NA  \n",
       "3               4              3                 2      NA  \n",
       "4               3              3                 2      NA  "
      ]
     },
     "execution_count": 94,
     "metadata": {},
     "output_type": "execute_result"
    }
   ],
   "source": [
    "# -*- coding: utf-8 -*-\n",
    "\"\"\"\n",
    "Spyder Editor\n",
    "\n",
    "This is a temporary script file.\n",
    "\"\"\"\n",
    "import pandas as pd\n",
    "import json\n",
    "import numpy as np\n",
    "from datetime import datetime\n",
    "import matplotlib.pyplot as plt\n",
    "import plotly.express as px\n",
    "import plotly.io as pio\n",
    "\n",
    "pio.templates.default = \"ggplot2\"\n",
    "warnings.filterwarnings('ignore')\n",
    "pio.renderers.default='jupyterlab'\n",
    "pd.set_option('display.float_format', lambda x: '%.2g' % x)\n",
    "\n",
    "def edad(birthdate):\n",
    "    return int(((datetime.now() - birthdate).days)/365.2425)\n",
    "\n",
    "with open('2_Inputs/deliveryDatasetChallenge.json') as json_file:\n",
    "    data = json.load(json_file)\n",
    "    \n",
    "    print(\"Type:\", type(data))\n",
    "\n",
    "\n",
    "data = pd.DataFrame(data)\n",
    "data_columns = data.columns.str.split(';',expand=True)\n",
    "\n",
    "data = data.iloc[:,0].str.split(';',expand=True)\n",
    "\n",
    "data.columns = ['anonID','birthdate','routeDate','region','gender','areaWealthLevel','areaPopulation',\n",
    "                'badWeather','weatherRestrictions','routeTotalDistance','numberOfShops','marketShare',\n",
    "                'avgAreaBenefits','timeFromAvg','advertising','employeeLYScore','employeeTenure','employeePrevComps','success']\n",
    "\n",
    "data = data.reset_index().drop([\"index\"], axis =1)\n",
    "\n",
    "del json_file\n",
    "del data_columns\n",
    "\n",
    "data.head()"
   ]
  },
  {
   "cell_type": "code",
   "execution_count": 95,
   "id": "34d99134-3329-49e1-87de-7f7ad50aeba9",
   "metadata": {
    "tags": []
   },
   "outputs": [
    {
     "data": {
      "text/html": [
       "<div>\n",
       "<style scoped>\n",
       "    .dataframe tbody tr th:only-of-type {\n",
       "        vertical-align: middle;\n",
       "    }\n",
       "\n",
       "    .dataframe tbody tr th {\n",
       "        vertical-align: top;\n",
       "    }\n",
       "\n",
       "    .dataframe thead th {\n",
       "        text-align: right;\n",
       "    }\n",
       "</style>\n",
       "<table border=\"1\" class=\"dataframe\">\n",
       "  <thead>\n",
       "    <tr style=\"text-align: right;\">\n",
       "      <th></th>\n",
       "      <th>anonID</th>\n",
       "      <th>birthdate</th>\n",
       "      <th>edad</th>\n",
       "      <th>routeDate</th>\n",
       "      <th>month</th>\n",
       "      <th>day</th>\n",
       "      <th>year</th>\n",
       "      <th>region</th>\n",
       "      <th>gender</th>\n",
       "      <th>areaWealthLevel</th>\n",
       "      <th>...</th>\n",
       "      <th>routeTotalDistance</th>\n",
       "      <th>numberOfShops</th>\n",
       "      <th>marketShare</th>\n",
       "      <th>avgAreaBenefits</th>\n",
       "      <th>timeFromAvg</th>\n",
       "      <th>advertising</th>\n",
       "      <th>employeeLYScore</th>\n",
       "      <th>employeeTenure</th>\n",
       "      <th>employeePrevComps</th>\n",
       "      <th>success</th>\n",
       "    </tr>\n",
       "  </thead>\n",
       "  <tbody>\n",
       "    <tr>\n",
       "      <th>0</th>\n",
       "      <td>XLKC1691</td>\n",
       "      <td>1969-10-23</td>\n",
       "      <td>52</td>\n",
       "      <td>2020-05-19</td>\n",
       "      <td>5</td>\n",
       "      <td>19</td>\n",
       "      <td>2020</td>\n",
       "      <td>NA</td>\n",
       "      <td>M</td>\n",
       "      <td>Mid</td>\n",
       "      <td>...</td>\n",
       "      <td>28</td>\n",
       "      <td>26</td>\n",
       "      <td>49</td>\n",
       "      <td>19</td>\n",
       "      <td>0.35</td>\n",
       "      <td>3</td>\n",
       "      <td>4</td>\n",
       "      <td>1</td>\n",
       "      <td>1</td>\n",
       "      <td>-1</td>\n",
       "    </tr>\n",
       "    <tr>\n",
       "      <th>1</th>\n",
       "      <td>KANY6459</td>\n",
       "      <td>1976-04-14</td>\n",
       "      <td>46</td>\n",
       "      <td>2020-05-19</td>\n",
       "      <td>5</td>\n",
       "      <td>19</td>\n",
       "      <td>2020</td>\n",
       "      <td>LATAM</td>\n",
       "      <td>M</td>\n",
       "      <td>Mid</td>\n",
       "      <td>...</td>\n",
       "      <td>21</td>\n",
       "      <td>28</td>\n",
       "      <td>96</td>\n",
       "      <td>14</td>\n",
       "      <td>0.47</td>\n",
       "      <td>3</td>\n",
       "      <td>4</td>\n",
       "      <td>3</td>\n",
       "      <td>2</td>\n",
       "      <td>-1</td>\n",
       "    </tr>\n",
       "    <tr>\n",
       "      <th>2</th>\n",
       "      <td>ULUZ5859</td>\n",
       "      <td>1985-03-04</td>\n",
       "      <td>37</td>\n",
       "      <td>NaT</td>\n",
       "      <td>nan</td>\n",
       "      <td>nan</td>\n",
       "      <td>nan</td>\n",
       "      <td>NA</td>\n",
       "      <td>M</td>\n",
       "      <td>High</td>\n",
       "      <td>...</td>\n",
       "      <td>26</td>\n",
       "      <td>25</td>\n",
       "      <td>76</td>\n",
       "      <td>14</td>\n",
       "      <td>0</td>\n",
       "      <td>2</td>\n",
       "      <td>3</td>\n",
       "      <td>1</td>\n",
       "      <td>1</td>\n",
       "      <td>-1</td>\n",
       "    </tr>\n",
       "    <tr>\n",
       "      <th>3</th>\n",
       "      <td>LDCQ7279</td>\n",
       "      <td>1968-03-24</td>\n",
       "      <td>54</td>\n",
       "      <td>2020-11-05</td>\n",
       "      <td>11</td>\n",
       "      <td>5</td>\n",
       "      <td>2020</td>\n",
       "      <td>NA</td>\n",
       "      <td>M</td>\n",
       "      <td>Mid</td>\n",
       "      <td>...</td>\n",
       "      <td>24</td>\n",
       "      <td>26</td>\n",
       "      <td>65</td>\n",
       "      <td>19</td>\n",
       "      <td>-0.37</td>\n",
       "      <td>2</td>\n",
       "      <td>4</td>\n",
       "      <td>3</td>\n",
       "      <td>2</td>\n",
       "      <td>-1</td>\n",
       "    </tr>\n",
       "    <tr>\n",
       "      <th>4</th>\n",
       "      <td>KIUB5860</td>\n",
       "      <td>1978-04-22</td>\n",
       "      <td>44</td>\n",
       "      <td>2020-05-19</td>\n",
       "      <td>5</td>\n",
       "      <td>19</td>\n",
       "      <td>2020</td>\n",
       "      <td>AMESA</td>\n",
       "      <td>M</td>\n",
       "      <td>Low</td>\n",
       "      <td>...</td>\n",
       "      <td>23</td>\n",
       "      <td>22</td>\n",
       "      <td>72</td>\n",
       "      <td>12</td>\n",
       "      <td>0.44</td>\n",
       "      <td>2</td>\n",
       "      <td>3</td>\n",
       "      <td>3</td>\n",
       "      <td>2</td>\n",
       "      <td>-1</td>\n",
       "    </tr>\n",
       "  </tbody>\n",
       "</table>\n",
       "<p>5 rows × 24 columns</p>\n",
       "</div>"
      ],
      "text/plain": [
       "     anonID  birthdate  edad  routeDate month  day  year region gender  \\\n",
       "0  XLKC1691 1969-10-23    52 2020-05-19     5   19  2020     NA      M   \n",
       "1  KANY6459 1976-04-14    46 2020-05-19     5   19  2020  LATAM      M   \n",
       "2  ULUZ5859 1985-03-04    37        NaT   nan  nan   nan     NA      M   \n",
       "3  LDCQ7279 1968-03-24    54 2020-11-05    11    5  2020     NA      M   \n",
       "4  KIUB5860 1978-04-22    44 2020-05-19     5   19  2020  AMESA      M   \n",
       "\n",
       "  areaWealthLevel  ... routeTotalDistance numberOfShops marketShare  \\\n",
       "0             Mid  ...                 28            26          49   \n",
       "1             Mid  ...                 21            28          96   \n",
       "2            High  ...                 26            25          76   \n",
       "3             Mid  ...                 24            26          65   \n",
       "4             Low  ...                 23            22          72   \n",
       "\n",
       "   avgAreaBenefits  timeFromAvg  advertising  employeeLYScore  employeeTenure  \\\n",
       "0               19         0.35            3                4               1   \n",
       "1               14         0.47            3                4               3   \n",
       "2               14            0            2                3               1   \n",
       "3               19        -0.37            2                4               3   \n",
       "4               12         0.44            2                3               3   \n",
       "\n",
       "   employeePrevComps  success  \n",
       "0                  1       -1  \n",
       "1                  2       -1  \n",
       "2                  1       -1  \n",
       "3                  2       -1  \n",
       "4                  2       -1  \n",
       "\n",
       "[5 rows x 24 columns]"
      ]
     },
     "execution_count": 95,
     "metadata": {},
     "output_type": "execute_result"
    }
   ],
   "source": [
    "#####################\n",
    "#Formato de columnas#\n",
    "#####################\n",
    "#Variables númericas : 'areaPopulation','routeTotalDistance','numberOfShops','marketShare', 'avgAreaBenefits', 'timeFromAvg',\n",
    "#                      'advertising', 'employeeLYScore','employeeTenure', 'employeePrevComps'\n",
    "data[\"areaPopulation\"] = data[\"areaPopulation\"].astype(float)\n",
    "data['routeTotalDistance'] = data['routeTotalDistance'].astype(float)\n",
    "data['numberOfShops'] = data['numberOfShops'].astype(int)\n",
    "data['marketShare'] = data['marketShare'].astype(float)\n",
    "\n",
    "data.loc[data['avgAreaBenefits'] == 'NA','avgAreaBenefits'] = 0\n",
    "data['avgAreaBenefits'] = data['avgAreaBenefits'].astype(float)\n",
    "\n",
    "data.loc[data['timeFromAvg'] == 'NA','timeFromAvg'] = 0\n",
    "data['timeFromAvg'] = data['timeFromAvg'].astype(float)\n",
    "\n",
    "data['advertising'] = data['advertising'].astype(int)\n",
    "data['employeeLYScore'] = data['employeeLYScore'].astype(int)\n",
    "data['employeeTenure'] = data['employeeTenure'].astype(int)\n",
    "data['employeePrevComps'] = data['employeePrevComps'].astype(int)\n",
    "\n",
    "#Variables categorícas : 'anonID', 'region', 'gender', 'areaWealthLevel','badWeather', 'weatherRestrictions','success'\n",
    "data.loc[data['success'] == 'NA','success'] = -1\n",
    "data['success'] = data['success'].astype(int)\n",
    "data[\"region-gender-areaWealthLevel-badWeather-weatherRestrictions\"] = data[\"region\"] +\"-\"+ data[\"gender\"] +\"-\"+ data[\"areaWealthLevel\"] +\"-\"+ data[\"badWeather\"] +\"-\"+ data[\"badWeather\"] \n",
    "\n",
    "#Variables tipo fecha\n",
    "data[\"birthdate\"] = pd.to_datetime(data[\"birthdate\"])\n",
    "data[\"edad\"] = data[\"birthdate\"].apply(edad)\n",
    "\n",
    "data[\"routeDate\"] = np.where(data[\"routeDate\"] == 'NA', '', data[\"routeDate\"])\n",
    "data[\"routeDate\"] = pd.to_datetime(data[\"routeDate\"])\n",
    "data[\"month\"] = data[\"routeDate\"].dt.month.astype(str)\n",
    "data[\"day\"] = data[\"routeDate\"].dt.day.astype(str)\n",
    "data[\"year\"] = data[\"routeDate\"].dt.year.astype(str)\n",
    "data[\"month\"] = data[\"month\"].apply(lambda x : x.replace('.0',''))\n",
    "data[\"day\"] = data[\"day\"].apply(lambda x : x.replace('.0',''))\n",
    "data[\"year\"] = data[\"year\"].apply(lambda x : x.replace('.0',''))\n",
    "\n",
    "#Reacomodo\n",
    "data = data.loc[:,[\"anonID\",\"birthdate\",\"edad\",\"routeDate\",\"month\",\"day\",\"year\",\"region\",\"gender\",\"areaWealthLevel\",\"badWeather\",\"weatherRestrictions\",\n",
    "                   \"region-gender-areaWealthLevel-badWeather-weatherRestrictions\",\"areaPopulation\",\"routeTotalDistance\",\"numberOfShops\",\"marketShare\",\n",
    "                   \"avgAreaBenefits\",\"timeFromAvg\",\"advertising\",\"employeeLYScore\",\"employeeTenure\",\"employeePrevComps\",\"success\"]]\n",
    "\n",
    "data.head()"
   ]
  },
  {
   "cell_type": "code",
   "execution_count": 96,
   "id": "f78713c6-352d-4e25-9a3a-c28831747e3e",
   "metadata": {},
   "outputs": [
    {
     "data": {
      "text/plain": [
       "5      0.8\n",
       "11     0.1\n",
       "12   0.095\n",
       "Name: month, dtype: float64"
      ]
     },
     "execution_count": 96,
     "metadata": {},
     "output_type": "execute_result"
    }
   ],
   "source": [
    "######################\n",
    "#Exploración de datos#\n",
    "######################\n",
    "\n",
    "data.groupby([\"success\"]).count()\n",
    "data[\"success\"].value_counts(normalize = True)\n",
    "\n",
    "data.isnull().sum()\n",
    "\n",
    "data_filter = data[(data[\"success\"] >= 0) & ~(data[\"routeDate\"].isnull())]\n",
    "data_filter[\"success\"].value_counts()\n",
    "\n",
    "data_filter.groupby(['month'], as_index = True).agg({'success':'count'}).reset_index()\n",
    "data_filter['month'].value_counts(normalize = True)\n"
   ]
  },
  {
   "cell_type": "code",
   "execution_count": 97,
   "id": "a7a21591-5126-4a0d-9760-b351fe8ffbed",
   "metadata": {},
   "outputs": [
    {
     "data": {
      "application/vnd.plotly.v1+json": {
       "config": {
        "plotlyServerURL": "https://plot.ly"
       },
       "data": [
        {
         "alignmentgroup": "True",
         "hovertemplate": "routeDate=%{x}<br>anonID=%{text}<br>success=%{marker.color}<extra></extra>",
         "legendgroup": "",
         "marker": {
          "color": [
           0,
           1,
           0,
           1,
           0,
           1,
           0,
           1,
           0,
           1,
           0,
           1,
           0,
           1,
           0,
           1,
           0,
           1,
           0,
           1
          ],
          "coloraxis": "coloraxis",
          "pattern": {
           "shape": ""
          }
         },
         "name": "",
         "offsetgroup": "",
         "orientation": "v",
         "showlegend": false,
         "text": [
          81,
          1944,
          85,
          1901,
          86,
          1920,
          59,
          1894,
          77,
          1795,
          67,
          1854,
          69,
          1888,
          77,
          1844,
          62,
          1929,
          66,
          1795
         ],
         "textposition": "auto",
         "texttemplate": "%{y}",
         "type": "bar",
         "x": [
          "2020-05-13T00:00:00",
          "2020-05-13T00:00:00",
          "2020-05-14T00:00:00",
          "2020-05-14T00:00:00",
          "2020-05-15T00:00:00",
          "2020-05-15T00:00:00",
          "2020-05-18T00:00:00",
          "2020-05-18T00:00:00",
          "2020-05-19T00:00:00",
          "2020-05-19T00:00:00",
          "2020-05-20T00:00:00",
          "2020-05-20T00:00:00",
          "2020-05-21T00:00:00",
          "2020-05-21T00:00:00",
          "2020-05-22T00:00:00",
          "2020-05-22T00:00:00",
          "2020-11-05T00:00:00",
          "2020-11-05T00:00:00",
          "2020-12-05T00:00:00",
          "2020-12-05T00:00:00"
         ],
         "xaxis": "x",
         "y": [
          81,
          1944,
          85,
          1901,
          86,
          1920,
          59,
          1894,
          77,
          1795,
          67,
          1854,
          69,
          1888,
          77,
          1844,
          62,
          1929,
          66,
          1795
         ],
         "yaxis": "y"
        }
       ],
       "layout": {
        "autosize": true,
        "barmode": "relative",
        "coloraxis": {
         "colorbar": {
          "title": {
           "text": "success"
          }
         },
         "colorscale": [
          [
           0,
           "rgb(20,44,66)"
          ],
          [
           1,
           "rgb(90,179,244)"
          ]
         ]
        },
        "legend": {
         "tracegroupgap": 0
        },
        "template": {
         "data": {
          "bar": [
           {
            "error_x": {
             "color": "rgb(51,51,51)"
            },
            "error_y": {
             "color": "rgb(51,51,51)"
            },
            "marker": {
             "line": {
              "color": "rgb(237,237,237)",
              "width": 0.5
             },
             "pattern": {
              "fillmode": "overlay",
              "size": 10,
              "solidity": 0.2
             }
            },
            "type": "bar"
           }
          ],
          "barpolar": [
           {
            "marker": {
             "line": {
              "color": "rgb(237,237,237)",
              "width": 0.5
             },
             "pattern": {
              "fillmode": "overlay",
              "size": 10,
              "solidity": 0.2
             }
            },
            "type": "barpolar"
           }
          ],
          "carpet": [
           {
            "aaxis": {
             "endlinecolor": "rgb(51,51,51)",
             "gridcolor": "white",
             "linecolor": "white",
             "minorgridcolor": "white",
             "startlinecolor": "rgb(51,51,51)"
            },
            "baxis": {
             "endlinecolor": "rgb(51,51,51)",
             "gridcolor": "white",
             "linecolor": "white",
             "minorgridcolor": "white",
             "startlinecolor": "rgb(51,51,51)"
            },
            "type": "carpet"
           }
          ],
          "choropleth": [
           {
            "colorbar": {
             "outlinewidth": 0,
             "tickcolor": "rgb(237,237,237)",
             "ticklen": 6,
             "ticks": "inside"
            },
            "type": "choropleth"
           }
          ],
          "contour": [
           {
            "colorbar": {
             "outlinewidth": 0,
             "tickcolor": "rgb(237,237,237)",
             "ticklen": 6,
             "ticks": "inside"
            },
            "colorscale": [
             [
              0,
              "rgb(20,44,66)"
             ],
             [
              1,
              "rgb(90,179,244)"
             ]
            ],
            "type": "contour"
           }
          ],
          "contourcarpet": [
           {
            "colorbar": {
             "outlinewidth": 0,
             "tickcolor": "rgb(237,237,237)",
             "ticklen": 6,
             "ticks": "inside"
            },
            "type": "contourcarpet"
           }
          ],
          "heatmap": [
           {
            "colorbar": {
             "outlinewidth": 0,
             "tickcolor": "rgb(237,237,237)",
             "ticklen": 6,
             "ticks": "inside"
            },
            "colorscale": [
             [
              0,
              "rgb(20,44,66)"
             ],
             [
              1,
              "rgb(90,179,244)"
             ]
            ],
            "type": "heatmap"
           }
          ],
          "heatmapgl": [
           {
            "colorbar": {
             "outlinewidth": 0,
             "tickcolor": "rgb(237,237,237)",
             "ticklen": 6,
             "ticks": "inside"
            },
            "colorscale": [
             [
              0,
              "rgb(20,44,66)"
             ],
             [
              1,
              "rgb(90,179,244)"
             ]
            ],
            "type": "heatmapgl"
           }
          ],
          "histogram": [
           {
            "marker": {
             "pattern": {
              "fillmode": "overlay",
              "size": 10,
              "solidity": 0.2
             }
            },
            "type": "histogram"
           }
          ],
          "histogram2d": [
           {
            "colorbar": {
             "outlinewidth": 0,
             "tickcolor": "rgb(237,237,237)",
             "ticklen": 6,
             "ticks": "inside"
            },
            "colorscale": [
             [
              0,
              "rgb(20,44,66)"
             ],
             [
              1,
              "rgb(90,179,244)"
             ]
            ],
            "type": "histogram2d"
           }
          ],
          "histogram2dcontour": [
           {
            "colorbar": {
             "outlinewidth": 0,
             "tickcolor": "rgb(237,237,237)",
             "ticklen": 6,
             "ticks": "inside"
            },
            "colorscale": [
             [
              0,
              "rgb(20,44,66)"
             ],
             [
              1,
              "rgb(90,179,244)"
             ]
            ],
            "type": "histogram2dcontour"
           }
          ],
          "mesh3d": [
           {
            "colorbar": {
             "outlinewidth": 0,
             "tickcolor": "rgb(237,237,237)",
             "ticklen": 6,
             "ticks": "inside"
            },
            "type": "mesh3d"
           }
          ],
          "parcoords": [
           {
            "line": {
             "colorbar": {
              "outlinewidth": 0,
              "tickcolor": "rgb(237,237,237)",
              "ticklen": 6,
              "ticks": "inside"
             }
            },
            "type": "parcoords"
           }
          ],
          "pie": [
           {
            "automargin": true,
            "type": "pie"
           }
          ],
          "scatter": [
           {
            "marker": {
             "colorbar": {
              "outlinewidth": 0,
              "tickcolor": "rgb(237,237,237)",
              "ticklen": 6,
              "ticks": "inside"
             }
            },
            "type": "scatter"
           }
          ],
          "scatter3d": [
           {
            "line": {
             "colorbar": {
              "outlinewidth": 0,
              "tickcolor": "rgb(237,237,237)",
              "ticklen": 6,
              "ticks": "inside"
             }
            },
            "marker": {
             "colorbar": {
              "outlinewidth": 0,
              "tickcolor": "rgb(237,237,237)",
              "ticklen": 6,
              "ticks": "inside"
             }
            },
            "type": "scatter3d"
           }
          ],
          "scattercarpet": [
           {
            "marker": {
             "colorbar": {
              "outlinewidth": 0,
              "tickcolor": "rgb(237,237,237)",
              "ticklen": 6,
              "ticks": "inside"
             }
            },
            "type": "scattercarpet"
           }
          ],
          "scattergeo": [
           {
            "marker": {
             "colorbar": {
              "outlinewidth": 0,
              "tickcolor": "rgb(237,237,237)",
              "ticklen": 6,
              "ticks": "inside"
             }
            },
            "type": "scattergeo"
           }
          ],
          "scattergl": [
           {
            "marker": {
             "colorbar": {
              "outlinewidth": 0,
              "tickcolor": "rgb(237,237,237)",
              "ticklen": 6,
              "ticks": "inside"
             }
            },
            "type": "scattergl"
           }
          ],
          "scattermapbox": [
           {
            "marker": {
             "colorbar": {
              "outlinewidth": 0,
              "tickcolor": "rgb(237,237,237)",
              "ticklen": 6,
              "ticks": "inside"
             }
            },
            "type": "scattermapbox"
           }
          ],
          "scatterpolar": [
           {
            "marker": {
             "colorbar": {
              "outlinewidth": 0,
              "tickcolor": "rgb(237,237,237)",
              "ticklen": 6,
              "ticks": "inside"
             }
            },
            "type": "scatterpolar"
           }
          ],
          "scatterpolargl": [
           {
            "marker": {
             "colorbar": {
              "outlinewidth": 0,
              "tickcolor": "rgb(237,237,237)",
              "ticklen": 6,
              "ticks": "inside"
             }
            },
            "type": "scatterpolargl"
           }
          ],
          "scatterternary": [
           {
            "marker": {
             "colorbar": {
              "outlinewidth": 0,
              "tickcolor": "rgb(237,237,237)",
              "ticklen": 6,
              "ticks": "inside"
             }
            },
            "type": "scatterternary"
           }
          ],
          "surface": [
           {
            "colorbar": {
             "outlinewidth": 0,
             "tickcolor": "rgb(237,237,237)",
             "ticklen": 6,
             "ticks": "inside"
            },
            "colorscale": [
             [
              0,
              "rgb(20,44,66)"
             ],
             [
              1,
              "rgb(90,179,244)"
             ]
            ],
            "type": "surface"
           }
          ],
          "table": [
           {
            "cells": {
             "fill": {
              "color": "rgb(237,237,237)"
             },
             "line": {
              "color": "white"
             }
            },
            "header": {
             "fill": {
              "color": "rgb(217,217,217)"
             },
             "line": {
              "color": "white"
             }
            },
            "type": "table"
           }
          ]
         },
         "layout": {
          "annotationdefaults": {
           "arrowhead": 0,
           "arrowwidth": 1
          },
          "autotypenumbers": "strict",
          "coloraxis": {
           "colorbar": {
            "outlinewidth": 0,
            "tickcolor": "rgb(237,237,237)",
            "ticklen": 6,
            "ticks": "inside"
           }
          },
          "colorscale": {
           "sequential": [
            [
             0,
             "rgb(20,44,66)"
            ],
            [
             1,
             "rgb(90,179,244)"
            ]
           ],
           "sequentialminus": [
            [
             0,
             "rgb(20,44,66)"
            ],
            [
             1,
             "rgb(90,179,244)"
            ]
           ]
          },
          "colorway": [
           "#F8766D",
           "#A3A500",
           "#00BF7D",
           "#00B0F6",
           "#E76BF3"
          ],
          "font": {
           "color": "rgb(51,51,51)"
          },
          "geo": {
           "bgcolor": "white",
           "lakecolor": "white",
           "landcolor": "rgb(237,237,237)",
           "showlakes": true,
           "showland": true,
           "subunitcolor": "white"
          },
          "hoverlabel": {
           "align": "left"
          },
          "hovermode": "closest",
          "paper_bgcolor": "white",
          "plot_bgcolor": "rgb(237,237,237)",
          "polar": {
           "angularaxis": {
            "gridcolor": "white",
            "linecolor": "white",
            "showgrid": true,
            "tickcolor": "rgb(51,51,51)",
            "ticks": "outside"
           },
           "bgcolor": "rgb(237,237,237)",
           "radialaxis": {
            "gridcolor": "white",
            "linecolor": "white",
            "showgrid": true,
            "tickcolor": "rgb(51,51,51)",
            "ticks": "outside"
           }
          },
          "scene": {
           "xaxis": {
            "backgroundcolor": "rgb(237,237,237)",
            "gridcolor": "white",
            "gridwidth": 2,
            "linecolor": "white",
            "showbackground": true,
            "showgrid": true,
            "tickcolor": "rgb(51,51,51)",
            "ticks": "outside",
            "zerolinecolor": "white"
           },
           "yaxis": {
            "backgroundcolor": "rgb(237,237,237)",
            "gridcolor": "white",
            "gridwidth": 2,
            "linecolor": "white",
            "showbackground": true,
            "showgrid": true,
            "tickcolor": "rgb(51,51,51)",
            "ticks": "outside",
            "zerolinecolor": "white"
           },
           "zaxis": {
            "backgroundcolor": "rgb(237,237,237)",
            "gridcolor": "white",
            "gridwidth": 2,
            "linecolor": "white",
            "showbackground": true,
            "showgrid": true,
            "tickcolor": "rgb(51,51,51)",
            "ticks": "outside",
            "zerolinecolor": "white"
           }
          },
          "shapedefaults": {
           "fillcolor": "black",
           "line": {
            "width": 0
           },
           "opacity": 0.3
          },
          "ternary": {
           "aaxis": {
            "gridcolor": "white",
            "linecolor": "white",
            "showgrid": true,
            "tickcolor": "rgb(51,51,51)",
            "ticks": "outside"
           },
           "baxis": {
            "gridcolor": "white",
            "linecolor": "white",
            "showgrid": true,
            "tickcolor": "rgb(51,51,51)",
            "ticks": "outside"
           },
           "bgcolor": "rgb(237,237,237)",
           "caxis": {
            "gridcolor": "white",
            "linecolor": "white",
            "showgrid": true,
            "tickcolor": "rgb(51,51,51)",
            "ticks": "outside"
           }
          },
          "xaxis": {
           "automargin": true,
           "gridcolor": "white",
           "linecolor": "white",
           "showgrid": true,
           "tickcolor": "rgb(51,51,51)",
           "ticks": "outside",
           "title": {
            "standoff": 15
           },
           "zerolinecolor": "white"
          },
          "yaxis": {
           "automargin": true,
           "gridcolor": "white",
           "linecolor": "white",
           "showgrid": true,
           "tickcolor": "rgb(51,51,51)",
           "ticks": "outside",
           "title": {
            "standoff": 15
           },
           "zerolinecolor": "white"
          }
         }
        },
        "title": {
         "text": "80% de registros entre 13 al 22 de Mayo 2020. <br><sup>En cada día tenemos entre 9-10% con 1 (distribución esperada) y menos del .5% en 0 (distribución no esperada).</sup>"
        },
        "xaxis": {
         "anchor": "y",
         "autorange": true,
         "domain": [
          0,
          1
         ],
         "range": [
          "2020-05-12 12:00",
          "2020-12-05 12:00"
         ],
         "rangebreaks": [
          {
           "values": [
            "2020-05-16",
            "2020-05-17",
            "2020-05-23",
            "2020-05-24",
            "2020-05-25",
            "2020-05-26",
            "2020-05-27",
            "2020-05-28",
            "2020-05-29",
            "2020-05-30",
            "2020-05-31",
            "2020-06-01",
            "2020-06-02",
            "2020-06-03",
            "2020-06-04",
            "2020-06-05",
            "2020-06-06",
            "2020-06-07",
            "2020-06-08",
            "2020-06-09",
            "2020-06-10",
            "2020-06-11",
            "2020-06-12",
            "2020-06-13",
            "2020-06-14",
            "2020-06-15",
            "2020-06-16",
            "2020-06-17",
            "2020-06-18",
            "2020-06-19",
            "2020-06-20",
            "2020-06-21",
            "2020-06-22",
            "2020-06-23",
            "2020-06-24",
            "2020-06-25",
            "2020-06-26",
            "2020-06-27",
            "2020-06-28",
            "2020-06-29",
            "2020-06-30",
            "2020-07-01",
            "2020-07-02",
            "2020-07-03",
            "2020-07-04",
            "2020-07-05",
            "2020-07-06",
            "2020-07-07",
            "2020-07-08",
            "2020-07-09",
            "2020-07-10",
            "2020-07-11",
            "2020-07-12",
            "2020-07-13",
            "2020-07-14",
            "2020-07-15",
            "2020-07-16",
            "2020-07-17",
            "2020-07-18",
            "2020-07-19",
            "2020-07-20",
            "2020-07-21",
            "2020-07-22",
            "2020-07-23",
            "2020-07-24",
            "2020-07-25",
            "2020-07-26",
            "2020-07-27",
            "2020-07-28",
            "2020-07-29",
            "2020-07-30",
            "2020-07-31",
            "2020-08-01",
            "2020-08-02",
            "2020-08-03",
            "2020-08-04",
            "2020-08-05",
            "2020-08-06",
            "2020-08-07",
            "2020-08-08",
            "2020-08-09",
            "2020-08-10",
            "2020-08-11",
            "2020-08-12",
            "2020-08-13",
            "2020-08-14",
            "2020-08-15",
            "2020-08-16",
            "2020-08-17",
            "2020-08-18",
            "2020-08-19",
            "2020-08-20",
            "2020-08-21",
            "2020-08-22",
            "2020-08-23",
            "2020-08-24",
            "2020-08-25",
            "2020-08-26",
            "2020-08-27",
            "2020-08-28",
            "2020-08-29",
            "2020-08-30",
            "2020-08-31",
            "2020-09-01",
            "2020-09-02",
            "2020-09-03",
            "2020-09-04",
            "2020-09-05",
            "2020-09-06",
            "2020-09-07",
            "2020-09-08",
            "2020-09-09",
            "2020-09-10",
            "2020-09-11",
            "2020-09-12",
            "2020-09-13",
            "2020-09-14",
            "2020-09-15",
            "2020-09-16",
            "2020-09-17",
            "2020-09-18",
            "2020-09-19",
            "2020-09-20",
            "2020-09-21",
            "2020-09-22",
            "2020-09-23",
            "2020-09-24",
            "2020-09-25",
            "2020-09-26",
            "2020-09-27",
            "2020-09-28",
            "2020-09-29",
            "2020-09-30",
            "2020-10-01",
            "2020-10-02",
            "2020-10-03",
            "2020-10-04",
            "2020-10-05",
            "2020-10-06",
            "2020-10-07",
            "2020-10-08",
            "2020-10-09",
            "2020-10-10",
            "2020-10-11",
            "2020-10-12",
            "2020-10-13",
            "2020-10-14",
            "2020-10-15",
            "2020-10-16",
            "2020-10-17",
            "2020-10-18",
            "2020-10-19",
            "2020-10-20",
            "2020-10-21",
            "2020-10-22",
            "2020-10-23",
            "2020-10-24",
            "2020-10-25",
            "2020-10-26",
            "2020-10-27",
            "2020-10-28",
            "2020-10-29",
            "2020-10-30",
            "2020-10-31",
            "2020-11-01",
            "2020-11-02",
            "2020-11-03",
            "2020-11-04",
            "2020-11-06",
            "2020-11-07",
            "2020-11-08",
            "2020-11-09",
            "2020-11-10",
            "2020-11-11",
            "2020-11-12",
            "2020-11-13",
            "2020-11-14",
            "2020-11-15",
            "2020-11-16",
            "2020-11-17",
            "2020-11-18",
            "2020-11-19",
            "2020-11-20",
            "2020-11-21",
            "2020-11-22",
            "2020-11-23",
            "2020-11-24",
            "2020-11-25",
            "2020-11-26",
            "2020-11-27",
            "2020-11-28",
            "2020-11-29",
            "2020-11-30",
            "2020-12-01",
            "2020-12-02",
            "2020-12-03",
            "2020-12-04"
           ]
          }
         ],
         "title": {
          "text": "routeDate"
         },
         "type": "date"
        },
        "yaxis": {
         "anchor": "x",
         "autorange": true,
         "domain": [
          0,
          1
         ],
         "range": [
          0,
          2131.5789473684213
         ],
         "title": {
          "text": "anonID"
         },
         "type": "linear"
        }
       }
      },
      "image/png": "[encoded data removed]"
     },
     "metadata": {},
     "output_type": "display_data"
    }
   ],
   "source": [
    "tmp = data_filter.groupby(['routeDate','day','month','success'], as_index = True).count().reset_index()\n",
    "\n",
    "#lÓGICA PARA EXCLUIR FECHAS VACÍAS DEL GRÁFICO.\n",
    "dt_all = pd.date_range(start=tmp['routeDate'].iloc[0],end=tmp['routeDate'].iloc[-1])\n",
    "dt_obs = [d.strftime(\"%Y-%m-%d\") for d in tmp['routeDate']]\n",
    "dt_breaks = [d for d in dt_all.strftime(\"%Y-%m-%d\").tolist() if not d in dt_obs]\n",
    "\n",
    "fig = px.bar(tmp, x=\"routeDate\", y=\"anonID\",\n",
    "                  color=\"success\",\n",
    "                  text_auto=True,\n",
    "                  text=\"anonID\",\n",
    "                  title = \"80% de registros entre 13 al 22 de Mayo 2020. <br><sup>En cada día tenemos entre 9-10% con 1 (distribución esperada) y menos del .5% en 0 (distribución no esperada).</sup>\")\n",
    "\n",
    "fig.update_xaxes(\n",
    "    rangebreaks=[dict(values=dt_breaks)]\n",
    ")\n",
    "\n",
    "fig.show()"
   ]
  },
  {
   "cell_type": "code",
   "execution_count": 105,
   "id": "d6f8509d-2106-454b-a233-ba47200c15e4",
   "metadata": {},
   "outputs": [
    {
     "name": "stdout",
     "output_type": "stream",
     "text": [
      "         anonID\n",
      "success        \n",
      "0           729\n",
      "1         18764\n",
      "                    success\n",
      "routeDate  success         \n",
      "2020-05-13 0              4\n",
      "           1             96\n",
      "2020-05-14 0            4.3\n",
      "           1             96\n",
      "2020-05-15 0            4.3\n",
      "           1             96\n",
      "2020-05-18 0              3\n",
      "           1             97\n",
      "2020-05-19 0            4.1\n",
      "           1             96\n",
      "2020-05-20 0            3.5\n",
      "           1             96\n",
      "2020-05-21 0            3.5\n",
      "           1             96\n",
      "2020-05-22 0              4\n",
      "           1             96\n",
      "2020-11-05 0            3.1\n",
      "           1             97\n",
      "2020-12-05 0            3.5\n",
      "           1             96\n",
      "                success\n",
      "region success         \n",
      "AMESA  0            3.9\n",
      "       1             96\n",
      "APAC   0            3.8\n",
      "       1             96\n",
      "Europe 0            3.6\n",
      "       1             96\n",
      "LATAM  0            4.2\n",
      "       1             96\n",
      "NA     0            3.5\n",
      "       1             96\n",
      "                success\n",
      "gender success         \n",
      "F      0            2.9\n",
      "       1             97\n",
      "M      0            3.8\n",
      "       1             96\n",
      "X      1          1e+02\n",
      "                         success\n",
      "areaWealthLevel success         \n",
      "High            0            3.8\n",
      "                1             96\n",
      "Low             0            3.9\n",
      "                1             96\n",
      "Mid             0            3.6\n",
      "                1             96\n",
      "NA              0            3.9\n",
      "                1             96\n"
     ]
    }
   ],
   "source": [
    "#Conteo de variables categoricas, respecto a la distribución (0,1)\n",
    "#region, genero, areaWealthLvele tienen un 96-97% con distrubución esperada y entre 3-4% distribución no esperada. \n",
    "def grupos(grupo = ['region','success'], num_grupos = 2):\n",
    "    if num_grupos == 1:\n",
    "        return data_filter.groupby(grupo).count().iloc[:,:1]\n",
    "    else :\n",
    "        return data_filter.groupby(grupo).agg({'success': 'count'}).groupby(level=0).apply(lambda x: round(100 * x / float(x.sum()),1)) \n",
    "\n",
    "print(grupos(['success'],num_grupos=1))\n",
    "print(grupos(['routeDate','success']))\n",
    "print(grupos(['region','success']))\n",
    "print(grupos(['gender','success']))\n",
    "print(grupos(['areaWealthLevel','success']))"
   ]
  },
  {
   "cell_type": "code",
   "execution_count": 104,
   "id": "e17db589-e320-4c61-8e03-4f7811a89d59",
   "metadata": {},
   "outputs": [
    {
     "name": "stdout",
     "output_type": "stream",
     "text": [
      "                    success\n",
      "badWeather success         \n",
      "No         0            3.6\n",
      "           1             96\n",
      "Yes        0            5.6\n",
      "           1             94\n",
      "                             success\n",
      "weatherRestrictions success         \n",
      "No                  0            3.7\n",
      "                    1             96\n",
      "Yes                 0            9.4\n",
      "                    1             91\n"
     ]
    }
   ],
   "source": [
    "#badWeather: Malas condiciones meteorológicas en la zona, como precipitaciones o viento fuerte\n",
    "#weatheRestrictions: Afectaciones en la zona debido al clima\n",
    "\n",
    "#Tenemos un ligero aumento cuando el clima afecta la ruta.\n",
    "\n",
    "print(grupos(['badWeather','success']))\n",
    "print(grupos(['weatherRestrictions','success']))\n",
    "#tmp = grupos(['region-gender-areaWealthLevel-badWeather-weatherRestrictions','success'])"
   ]
  }
 ],
 "metadata": {
  "kernelspec": {
   "display_name": "Python 3 (ipykernel)",
   "language": "python",
   "name": "python3"
  },
  "language_info": {
   "codemirror_mode": {
    "name": "ipython",
    "version": 3
   },
   "file_extension": ".py",
   "mimetype": "text/x-python",
   "name": "python",
   "nbconvert_exporter": "python",
   "pygments_lexer": "ipython3",
   "version": "3.9.12"
  }
 },
 "nbformat": 4,
 "nbformat_minor": 5
}

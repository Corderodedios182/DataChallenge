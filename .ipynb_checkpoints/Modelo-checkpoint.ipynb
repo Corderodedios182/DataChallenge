{
 "cells": [
  {
   "cell_type": "markdown",
   "id": "3937820b-16ae-4828-bf15-1d0695681101",
   "metadata": {},
   "source": [
    "**Objetivo de este problema es determinar los factores que pueden llevar a los concesionarios a cumplir con los objetivos de satisfacción mínima.**\n",
    "\n",
    "Datos *deIiveryDatasetChaIlenge.json* incluye datos de 29,389 rutas de camiones, realizadas por 29,389 empleados con las siguientes variables : \n",
    "\n",
    "**Primeras 10 columnas**\n",
    "\n",
    "- **anonId:** Identificador único de la ruta\n",
    "- **birthdate:** Fecha de nacimiento del empleado\n",
    "- **routeDate:** Día en que se realizó la ruta entre el 20/05/11 y el 20/05/22\n",
    "- **region:** Zona del mundo donde se ejecutó la ruta:\n",
    "    - NA: North America\n",
    "    - AMESA: Africa, Middle East and South Asia\n",
    "    - APAC: Asia Pacific, Australia/New Zealand, and China \n",
    "    - LATAM: Latin America\n",
    "    - Europe\n",
    "- **gender:** Género autodeterminado del empleado {F-Female, M-Male, X-Non binary}\n",
    "- **areaWealthLevel:** Desarrollo de la zona económica, en comparación con el conjunto del país (Low, Mid or High)\n",
    "- **areaPopulation:** Población de la zona cubierta, en miles\n",
    "- **badWeather:** Malas condiciones meteorológicas en la zona, como precipitaciones o viento fuerte\n",
    "- **weatheRestrictions:** Afectaciones en la zona debido al clima\n",
    "- **routeTotalDistance:** Distancia de la ruta recorrida en kms\n",
    "\n",
    "**Segundo set de columnas**\n",
    "\n",
    "- **numberOfShops:** Total Tiendas que cubrimos en la zona\n",
    "- **marketShare:** Porcentaje de cuota de mercado que la empresa tiene en la zona en sus categorías.\n",
    "- **avgAreaBenefits:** Beneficio económico semanal en la zona (en miles de $)\n",
    "- **timeFromAvg:** Tiempo empleado en la ruta, comparado con la media (negativo significaría que se tardó menos que la media\n",
    "- **advertising:** Inversión en material de punto de venta en las tiendas (de 0, que significa que no se invierte, a 3, que se invierte mucho)\n",
    "- **emoloyeeLYScore:** Calificando la puntuación del año pasado (de 1 a 5, siendo 5 la más alta). Los nuevos empleados tienen 3 por defecto.\n",
    "- **employeeTenure:** Tiempo que el empleado lleva en la empresa\n",
    "  - 0: se han incorporado en los últimos 12 meses \n",
    "  - 1: de 1 a 3 años\n",
    "  - 2: de 3 a 10 años\n",
    "  - 3: mas de 1O años\n",
    "- **emploIoyeePrevComps:** Número de empresas en las que el empleado trabajó anteriormente desarrollando la misma función (5 significa 3 o más).\n",
    "- **success:** El distribuidor ha distribuido al menos el valor esperado (1) o menos (0)"
   ]
  },
  {
   "cell_type": "markdown",
   "id": "1eea688b-bbc4-42f6-975e-dbe26e6489ef",
   "metadata": {},
   "source": [
    "#### Funciones importantes del Notebook.\n",
    "\n",
    "Preparación de datos (paquete **preparacion_datos**);\n",
    "    \n",
    "- *data_clean()*  : extracción, formato de columnas, limpieza de columnas.\n",
    "- *data_filter()* : filtrado de datos, análisis exploratorio de datos.\n",
    "- *data_model()*  : selección de columnas, ingeniería de características.\n",
    "    \n",
    "Modelado de datos (paquete **modelado_datos**) ; \n",
    "    \n",
    "- *ml_clf_knn()* : primer modelo de clasificación knn, analísis sesgo y varianza, métricas curva ROC y AUC, predicciones.\n",
    "- *ml_output()*  : exportación de resultados para cliente."
   ]
  },
  {
   "cell_type": "code",
   "execution_count": 6,
   "id": "5ffbe1fc-cc71-4a95-8ad6-80de3f3105c5",
   "metadata": {},
   "outputs": [],
   "source": [
    "import pandas as pd\n",
    "import json\n",
    "import numpy as np\n",
    "import matplotlib.pyplot as plt\n",
    "import plotly.express as px\n",
    "import plotly.io as pio\n",
    "import warnings\n",
    "from datetime import datetime\n",
    "\n",
    "from sklearn.neighbors import KNeighborsClassifier\n",
    "from sklearn.model_selection import train_test_split\n",
    "from sklearn.metrics import confusion_matrix\n",
    "from sklearn.metrics import classification_report\n",
    "from sklearn.metrics import accuracy_score\n",
    "from sklearn.metrics import precision_score\n",
    "from sklearn.metrics import recall_score\n",
    "from sklearn.metrics import f1_score\n",
    "from sklearn.metrics import roc_curve\n",
    "from sklearn.metrics import auc\n",
    "from mlxtend.evaluate import bias_variance_decomp\n",
    "from sklearn.metrics import zero_one_loss\n",
    "\n",
    "pio.templates.default = \"ggplot2\"\n",
    "warnings.filterwarnings('ignore')\n",
    "pio.renderers.default='jupyterlab'\n",
    "pd.set_option('display.float_format', lambda x: '%.2g' % x)"
   ]
  },
  {
   "cell_type": "code",
   "execution_count": 7,
   "id": "968f7b7d-5960-4e18-a2c6-6bed5fe08734",
   "metadata": {
    "tags": []
   },
   "outputs": [
    {
     "name": "stdout",
     "output_type": "stream",
     "text": [
      "Type: <class 'dict'>\n"
     ]
    },
    {
     "data": {
      "text/html": [
       "<div>\n",
       "<style scoped>\n",
       "    .dataframe tbody tr th:only-of-type {\n",
       "        vertical-align: middle;\n",
       "    }\n",
       "\n",
       "    .dataframe tbody tr th {\n",
       "        vertical-align: top;\n",
       "    }\n",
       "\n",
       "    .dataframe thead th {\n",
       "        text-align: right;\n",
       "    }\n",
       "</style>\n",
       "<table border=\"1\" class=\"dataframe\">\n",
       "  <thead>\n",
       "    <tr style=\"text-align: right;\">\n",
       "      <th></th>\n",
       "      <th>anonID</th>\n",
       "      <th>birthdate</th>\n",
       "      <th>edad</th>\n",
       "      <th>routeDate</th>\n",
       "      <th>month</th>\n",
       "      <th>day</th>\n",
       "      <th>year</th>\n",
       "      <th>region</th>\n",
       "      <th>gender</th>\n",
       "      <th>areaWealthLevel</th>\n",
       "      <th>...</th>\n",
       "      <th>routeTotalDistance</th>\n",
       "      <th>numberOfShops</th>\n",
       "      <th>marketShare</th>\n",
       "      <th>avgAreaBenefits</th>\n",
       "      <th>timeFromAvg</th>\n",
       "      <th>advertising</th>\n",
       "      <th>employeeLYScore</th>\n",
       "      <th>employeeTenure</th>\n",
       "      <th>employeePrevComps</th>\n",
       "      <th>success</th>\n",
       "    </tr>\n",
       "  </thead>\n",
       "  <tbody>\n",
       "    <tr>\n",
       "      <th>0</th>\n",
       "      <td>XLKC1691</td>\n",
       "      <td>1969-10-23</td>\n",
       "      <td>52</td>\n",
       "      <td>2020-05-19</td>\n",
       "      <td>5</td>\n",
       "      <td>19</td>\n",
       "      <td>2020</td>\n",
       "      <td>NA</td>\n",
       "      <td>M</td>\n",
       "      <td>Mid</td>\n",
       "      <td>...</td>\n",
       "      <td>28</td>\n",
       "      <td>26</td>\n",
       "      <td>49</td>\n",
       "      <td>19</td>\n",
       "      <td>0.35</td>\n",
       "      <td>3</td>\n",
       "      <td>4</td>\n",
       "      <td>1</td>\n",
       "      <td>1</td>\n",
       "      <td>-1</td>\n",
       "    </tr>\n",
       "    <tr>\n",
       "      <th>1</th>\n",
       "      <td>KANY6459</td>\n",
       "      <td>1976-04-14</td>\n",
       "      <td>46</td>\n",
       "      <td>2020-05-19</td>\n",
       "      <td>5</td>\n",
       "      <td>19</td>\n",
       "      <td>2020</td>\n",
       "      <td>LATAM</td>\n",
       "      <td>M</td>\n",
       "      <td>Mid</td>\n",
       "      <td>...</td>\n",
       "      <td>21</td>\n",
       "      <td>28</td>\n",
       "      <td>96</td>\n",
       "      <td>14</td>\n",
       "      <td>0.47</td>\n",
       "      <td>3</td>\n",
       "      <td>4</td>\n",
       "      <td>3</td>\n",
       "      <td>2</td>\n",
       "      <td>-1</td>\n",
       "    </tr>\n",
       "    <tr>\n",
       "      <th>2</th>\n",
       "      <td>ULUZ5859</td>\n",
       "      <td>1985-03-04</td>\n",
       "      <td>37</td>\n",
       "      <td>NaT</td>\n",
       "      <td>nan</td>\n",
       "      <td>nan</td>\n",
       "      <td>nan</td>\n",
       "      <td>NA</td>\n",
       "      <td>M</td>\n",
       "      <td>High</td>\n",
       "      <td>...</td>\n",
       "      <td>26</td>\n",
       "      <td>25</td>\n",
       "      <td>76</td>\n",
       "      <td>14</td>\n",
       "      <td>0</td>\n",
       "      <td>2</td>\n",
       "      <td>3</td>\n",
       "      <td>1</td>\n",
       "      <td>1</td>\n",
       "      <td>-1</td>\n",
       "    </tr>\n",
       "    <tr>\n",
       "      <th>3</th>\n",
       "      <td>LDCQ7279</td>\n",
       "      <td>1968-03-24</td>\n",
       "      <td>54</td>\n",
       "      <td>2020-11-05</td>\n",
       "      <td>11</td>\n",
       "      <td>5</td>\n",
       "      <td>2020</td>\n",
       "      <td>NA</td>\n",
       "      <td>M</td>\n",
       "      <td>Mid</td>\n",
       "      <td>...</td>\n",
       "      <td>24</td>\n",
       "      <td>26</td>\n",
       "      <td>65</td>\n",
       "      <td>19</td>\n",
       "      <td>-0.37</td>\n",
       "      <td>2</td>\n",
       "      <td>4</td>\n",
       "      <td>3</td>\n",
       "      <td>2</td>\n",
       "      <td>-1</td>\n",
       "    </tr>\n",
       "    <tr>\n",
       "      <th>4</th>\n",
       "      <td>KIUB5860</td>\n",
       "      <td>1978-04-22</td>\n",
       "      <td>44</td>\n",
       "      <td>2020-05-19</td>\n",
       "      <td>5</td>\n",
       "      <td>19</td>\n",
       "      <td>2020</td>\n",
       "      <td>AMESA</td>\n",
       "      <td>M</td>\n",
       "      <td>Low</td>\n",
       "      <td>...</td>\n",
       "      <td>23</td>\n",
       "      <td>22</td>\n",
       "      <td>72</td>\n",
       "      <td>12</td>\n",
       "      <td>0.44</td>\n",
       "      <td>2</td>\n",
       "      <td>3</td>\n",
       "      <td>3</td>\n",
       "      <td>2</td>\n",
       "      <td>-1</td>\n",
       "    </tr>\n",
       "  </tbody>\n",
       "</table>\n",
       "<p>5 rows × 24 columns</p>\n",
       "</div>"
      ],
      "text/plain": [
       "     anonID  birthdate  edad  routeDate month  day  year region gender  \\\n",
       "0  XLKC1691 1969-10-23    52 2020-05-19     5   19  2020     NA      M   \n",
       "1  KANY6459 1976-04-14    46 2020-05-19     5   19  2020  LATAM      M   \n",
       "2  ULUZ5859 1985-03-04    37        NaT   nan  nan   nan     NA      M   \n",
       "3  LDCQ7279 1968-03-24    54 2020-11-05    11    5  2020     NA      M   \n",
       "4  KIUB5860 1978-04-22    44 2020-05-19     5   19  2020  AMESA      M   \n",
       "\n",
       "  areaWealthLevel  ... routeTotalDistance numberOfShops marketShare  \\\n",
       "0             Mid  ...                 28            26          49   \n",
       "1             Mid  ...                 21            28          96   \n",
       "2            High  ...                 26            25          76   \n",
       "3             Mid  ...                 24            26          65   \n",
       "4             Low  ...                 23            22          72   \n",
       "\n",
       "   avgAreaBenefits  timeFromAvg  advertising  employeeLYScore  employeeTenure  \\\n",
       "0               19         0.35            3                4               1   \n",
       "1               14         0.47            3                4               3   \n",
       "2               14            0            2                3               1   \n",
       "3               19        -0.37            2                4               3   \n",
       "4               12         0.44            2                3               3   \n",
       "\n",
       "   employeePrevComps  success  \n",
       "0                  1       -1  \n",
       "1                  2       -1  \n",
       "2                  1       -1  \n",
       "3                  2       -1  \n",
       "4                  2       -1  \n",
       "\n",
       "[5 rows x 24 columns]"
      ]
     },
     "execution_count": 7,
     "metadata": {},
     "output_type": "execute_result"
    }
   ],
   "source": [
    "from Utils import preparacionDatos\n",
    "from Utils import mlDatos\n",
    "\n",
    "with open('Inputs/deliveryDatasetChallenge.json') as json_file:\n",
    "    data = json.load(json_file)\n",
    "    \n",
    "    print(\"Type:\", type(data))\n",
    "\n",
    "\n",
    "data = pd.DataFrame(data)\n",
    "\n",
    "data = preparacionDatos.dataClean(data)\n",
    "data.head()"
   ]
  },
  {
   "cell_type": "code",
   "execution_count": 8,
   "id": "34d99134-3329-49e1-87de-7f7ad50aeba9",
   "metadata": {
    "tags": []
   },
   "outputs": [
    {
     "data": {
      "text/html": [
       "<div>\n",
       "<style scoped>\n",
       "    .dataframe tbody tr th:only-of-type {\n",
       "        vertical-align: middle;\n",
       "    }\n",
       "\n",
       "    .dataframe tbody tr th {\n",
       "        vertical-align: top;\n",
       "    }\n",
       "\n",
       "    .dataframe thead th {\n",
       "        text-align: right;\n",
       "    }\n",
       "</style>\n",
       "<table border=\"1\" class=\"dataframe\">\n",
       "  <thead>\n",
       "    <tr style=\"text-align: right;\">\n",
       "      <th></th>\n",
       "      <th>anonID</th>\n",
       "      <th>birthdate</th>\n",
       "      <th>edad</th>\n",
       "      <th>routeDate</th>\n",
       "      <th>month</th>\n",
       "      <th>day</th>\n",
       "      <th>year</th>\n",
       "      <th>region</th>\n",
       "      <th>gender</th>\n",
       "      <th>areaWealthLevel</th>\n",
       "      <th>...</th>\n",
       "      <th>routeTotalDistance</th>\n",
       "      <th>numberOfShops</th>\n",
       "      <th>marketShare</th>\n",
       "      <th>avgAreaBenefits</th>\n",
       "      <th>timeFromAvg</th>\n",
       "      <th>advertising</th>\n",
       "      <th>employeeLYScore</th>\n",
       "      <th>employeeTenure</th>\n",
       "      <th>employeePrevComps</th>\n",
       "      <th>success</th>\n",
       "    </tr>\n",
       "  </thead>\n",
       "  <tbody>\n",
       "    <tr>\n",
       "      <th>0</th>\n",
       "      <td>XLKC1691</td>\n",
       "      <td>1969-10-23</td>\n",
       "      <td>52</td>\n",
       "      <td>2020-05-19</td>\n",
       "      <td>5</td>\n",
       "      <td>19</td>\n",
       "      <td>2020</td>\n",
       "      <td>NA</td>\n",
       "      <td>M</td>\n",
       "      <td>Mid</td>\n",
       "      <td>...</td>\n",
       "      <td>28</td>\n",
       "      <td>26</td>\n",
       "      <td>49</td>\n",
       "      <td>19</td>\n",
       "      <td>0.35</td>\n",
       "      <td>3</td>\n",
       "      <td>4</td>\n",
       "      <td>1</td>\n",
       "      <td>1</td>\n",
       "      <td>-1</td>\n",
       "    </tr>\n",
       "    <tr>\n",
       "      <th>1</th>\n",
       "      <td>KANY6459</td>\n",
       "      <td>1976-04-14</td>\n",
       "      <td>46</td>\n",
       "      <td>2020-05-19</td>\n",
       "      <td>5</td>\n",
       "      <td>19</td>\n",
       "      <td>2020</td>\n",
       "      <td>LATAM</td>\n",
       "      <td>M</td>\n",
       "      <td>Mid</td>\n",
       "      <td>...</td>\n",
       "      <td>21</td>\n",
       "      <td>28</td>\n",
       "      <td>96</td>\n",
       "      <td>14</td>\n",
       "      <td>0.47</td>\n",
       "      <td>3</td>\n",
       "      <td>4</td>\n",
       "      <td>3</td>\n",
       "      <td>2</td>\n",
       "      <td>-1</td>\n",
       "    </tr>\n",
       "    <tr>\n",
       "      <th>2</th>\n",
       "      <td>ULUZ5859</td>\n",
       "      <td>1985-03-04</td>\n",
       "      <td>37</td>\n",
       "      <td>NaT</td>\n",
       "      <td>nan</td>\n",
       "      <td>nan</td>\n",
       "      <td>nan</td>\n",
       "      <td>NA</td>\n",
       "      <td>M</td>\n",
       "      <td>High</td>\n",
       "      <td>...</td>\n",
       "      <td>26</td>\n",
       "      <td>25</td>\n",
       "      <td>76</td>\n",
       "      <td>14</td>\n",
       "      <td>0</td>\n",
       "      <td>2</td>\n",
       "      <td>3</td>\n",
       "      <td>1</td>\n",
       "      <td>1</td>\n",
       "      <td>-1</td>\n",
       "    </tr>\n",
       "    <tr>\n",
       "      <th>3</th>\n",
       "      <td>LDCQ7279</td>\n",
       "      <td>1968-03-24</td>\n",
       "      <td>54</td>\n",
       "      <td>2020-11-05</td>\n",
       "      <td>11</td>\n",
       "      <td>5</td>\n",
       "      <td>2020</td>\n",
       "      <td>NA</td>\n",
       "      <td>M</td>\n",
       "      <td>Mid</td>\n",
       "      <td>...</td>\n",
       "      <td>24</td>\n",
       "      <td>26</td>\n",
       "      <td>65</td>\n",
       "      <td>19</td>\n",
       "      <td>-0.37</td>\n",
       "      <td>2</td>\n",
       "      <td>4</td>\n",
       "      <td>3</td>\n",
       "      <td>2</td>\n",
       "      <td>-1</td>\n",
       "    </tr>\n",
       "    <tr>\n",
       "      <th>4</th>\n",
       "      <td>KIUB5860</td>\n",
       "      <td>1978-04-22</td>\n",
       "      <td>44</td>\n",
       "      <td>2020-05-19</td>\n",
       "      <td>5</td>\n",
       "      <td>19</td>\n",
       "      <td>2020</td>\n",
       "      <td>AMESA</td>\n",
       "      <td>M</td>\n",
       "      <td>Low</td>\n",
       "      <td>...</td>\n",
       "      <td>23</td>\n",
       "      <td>22</td>\n",
       "      <td>72</td>\n",
       "      <td>12</td>\n",
       "      <td>0.44</td>\n",
       "      <td>2</td>\n",
       "      <td>3</td>\n",
       "      <td>3</td>\n",
       "      <td>2</td>\n",
       "      <td>-1</td>\n",
       "    </tr>\n",
       "  </tbody>\n",
       "</table>\n",
       "<p>5 rows × 24 columns</p>\n",
       "</div>"
      ],
      "text/plain": [
       "     anonID  birthdate  edad  routeDate month  day  year region gender  \\\n",
       "0  XLKC1691 1969-10-23    52 2020-05-19     5   19  2020     NA      M   \n",
       "1  KANY6459 1976-04-14    46 2020-05-19     5   19  2020  LATAM      M   \n",
       "2  ULUZ5859 1985-03-04    37        NaT   nan  nan   nan     NA      M   \n",
       "3  LDCQ7279 1968-03-24    54 2020-11-05    11    5  2020     NA      M   \n",
       "4  KIUB5860 1978-04-22    44 2020-05-19     5   19  2020  AMESA      M   \n",
       "\n",
       "  areaWealthLevel  ... routeTotalDistance numberOfShops marketShare  \\\n",
       "0             Mid  ...                 28            26          49   \n",
       "1             Mid  ...                 21            28          96   \n",
       "2            High  ...                 26            25          76   \n",
       "3             Mid  ...                 24            26          65   \n",
       "4             Low  ...                 23            22          72   \n",
       "\n",
       "   avgAreaBenefits  timeFromAvg  advertising  employeeLYScore  employeeTenure  \\\n",
       "0               19         0.35            3                4               1   \n",
       "1               14         0.47            3                4               3   \n",
       "2               14            0            2                3               1   \n",
       "3               19        -0.37            2                4               3   \n",
       "4               12         0.44            2                3               3   \n",
       "\n",
       "   employeePrevComps  success  \n",
       "0                  1       -1  \n",
       "1                  2       -1  \n",
       "2                  1       -1  \n",
       "3                  2       -1  \n",
       "4                  2       -1  \n",
       "\n",
       "[5 rows x 24 columns]"
      ]
     },
     "execution_count": 8,
     "metadata": {},
     "output_type": "execute_result"
    }
   ],
   "source": [
    "data_filter = preparacionDatos.dataFilter(data)\n",
    "\n",
    "data.head()"
   ]
  },
  {
   "cell_type": "code",
   "execution_count": 9,
   "id": "415c4e05-48bc-42ed-b939-3e25f92714b3",
   "metadata": {},
   "outputs": [
    {
     "data": {
      "text/html": [
       "<div>\n",
       "<style scoped>\n",
       "    .dataframe tbody tr th:only-of-type {\n",
       "        vertical-align: middle;\n",
       "    }\n",
       "\n",
       "    .dataframe tbody tr th {\n",
       "        vertical-align: top;\n",
       "    }\n",
       "\n",
       "    .dataframe thead th {\n",
       "        text-align: right;\n",
       "    }\n",
       "</style>\n",
       "<table border=\"1\" class=\"dataframe\">\n",
       "  <thead>\n",
       "    <tr style=\"text-align: right;\">\n",
       "      <th></th>\n",
       "      <th>edad</th>\n",
       "      <th>region</th>\n",
       "      <th>gender</th>\n",
       "      <th>areaWealthLevel</th>\n",
       "      <th>badWeather</th>\n",
       "      <th>weatherRestrictions</th>\n",
       "      <th>areaPopulation</th>\n",
       "      <th>routeTotalDistance</th>\n",
       "      <th>numberOfShops</th>\n",
       "      <th>marketShare</th>\n",
       "      <th>avgAreaBenefits</th>\n",
       "      <th>timeFromAvg</th>\n",
       "      <th>advertising</th>\n",
       "      <th>employeeLYScore</th>\n",
       "      <th>employeeTenure</th>\n",
       "      <th>employeePrevComps</th>\n",
       "      <th>success</th>\n",
       "    </tr>\n",
       "  </thead>\n",
       "  <tbody>\n",
       "    <tr>\n",
       "      <th>5</th>\n",
       "      <td>34</td>\n",
       "      <td>3</td>\n",
       "      <td>1</td>\n",
       "      <td>0</td>\n",
       "      <td>0</td>\n",
       "      <td>0</td>\n",
       "      <td>24</td>\n",
       "      <td>21</td>\n",
       "      <td>22</td>\n",
       "      <td>71</td>\n",
       "      <td>13</td>\n",
       "      <td>0.61</td>\n",
       "      <td>0</td>\n",
       "      <td>3</td>\n",
       "      <td>2</td>\n",
       "      <td>2</td>\n",
       "      <td>1</td>\n",
       "    </tr>\n",
       "    <tr>\n",
       "      <th>7</th>\n",
       "      <td>46</td>\n",
       "      <td>4</td>\n",
       "      <td>1</td>\n",
       "      <td>2</td>\n",
       "      <td>0</td>\n",
       "      <td>0</td>\n",
       "      <td>27</td>\n",
       "      <td>26</td>\n",
       "      <td>22</td>\n",
       "      <td>54</td>\n",
       "      <td>16</td>\n",
       "      <td>0</td>\n",
       "      <td>3</td>\n",
       "      <td>3</td>\n",
       "      <td>0</td>\n",
       "      <td>2</td>\n",
       "      <td>1</td>\n",
       "    </tr>\n",
       "    <tr>\n",
       "      <th>8</th>\n",
       "      <td>37</td>\n",
       "      <td>0</td>\n",
       "      <td>1</td>\n",
       "      <td>3</td>\n",
       "      <td>0</td>\n",
       "      <td>0</td>\n",
       "      <td>12</td>\n",
       "      <td>28</td>\n",
       "      <td>25</td>\n",
       "      <td>60</td>\n",
       "      <td>12</td>\n",
       "      <td>0.42</td>\n",
       "      <td>0</td>\n",
       "      <td>2</td>\n",
       "      <td>2</td>\n",
       "      <td>1</td>\n",
       "      <td>1</td>\n",
       "    </tr>\n",
       "    <tr>\n",
       "      <th>9</th>\n",
       "      <td>44</td>\n",
       "      <td>2</td>\n",
       "      <td>1</td>\n",
       "      <td>2</td>\n",
       "      <td>0</td>\n",
       "      <td>0</td>\n",
       "      <td>26</td>\n",
       "      <td>26</td>\n",
       "      <td>24</td>\n",
       "      <td>61</td>\n",
       "      <td>20</td>\n",
       "      <td>0</td>\n",
       "      <td>3</td>\n",
       "      <td>4</td>\n",
       "      <td>2</td>\n",
       "      <td>1</td>\n",
       "      <td>1</td>\n",
       "    </tr>\n",
       "    <tr>\n",
       "      <th>10</th>\n",
       "      <td>52</td>\n",
       "      <td>1</td>\n",
       "      <td>1</td>\n",
       "      <td>0</td>\n",
       "      <td>0</td>\n",
       "      <td>0</td>\n",
       "      <td>7.6</td>\n",
       "      <td>26</td>\n",
       "      <td>28</td>\n",
       "      <td>70</td>\n",
       "      <td>24</td>\n",
       "      <td>0.14</td>\n",
       "      <td>2</td>\n",
       "      <td>3</td>\n",
       "      <td>1</td>\n",
       "      <td>1</td>\n",
       "      <td>1</td>\n",
       "    </tr>\n",
       "  </tbody>\n",
       "</table>\n",
       "</div>"
      ],
      "text/plain": [
       "    edad  region  gender  areaWealthLevel  badWeather  weatherRestrictions  \\\n",
       "5     34       3       1                0           0                    0   \n",
       "7     46       4       1                2           0                    0   \n",
       "8     37       0       1                3           0                    0   \n",
       "9     44       2       1                2           0                    0   \n",
       "10    52       1       1                0           0                    0   \n",
       "\n",
       "    areaPopulation  routeTotalDistance  numberOfShops  marketShare  \\\n",
       "5               24                  21             22           71   \n",
       "7               27                  26             22           54   \n",
       "8               12                  28             25           60   \n",
       "9               26                  26             24           61   \n",
       "10             7.6                  26             28           70   \n",
       "\n",
       "    avgAreaBenefits  timeFromAvg  advertising  employeeLYScore  \\\n",
       "5                13         0.61            0                3   \n",
       "7                16            0            3                3   \n",
       "8                12         0.42            0                2   \n",
       "9                20            0            3                4   \n",
       "10               24         0.14            2                3   \n",
       "\n",
       "    employeeTenure  employeePrevComps  success  \n",
       "5                2                  2        1  \n",
       "7                0                  2        1  \n",
       "8                2                  1        1  \n",
       "9                2                  1        1  \n",
       "10               1                  1        1  "
      ]
     },
     "execution_count": 9,
     "metadata": {},
     "output_type": "execute_result"
    }
   ],
   "source": [
    "data_model = preparacionDatos.dataModel(data_filter)\n",
    "\n",
    "data_model.head()"
   ]
  },
  {
   "cell_type": "markdown",
   "id": "12acbdc3-b2b6-47f9-89be-8b82ca2f1395",
   "metadata": {},
   "source": [
    "## Exploración de datos"
   ]
  },
  {
   "cell_type": "code",
   "execution_count": 96,
   "id": "f78713c6-352d-4e25-9a3a-c28831747e3e",
   "metadata": {},
   "outputs": [
    {
     "data": {
      "text/plain": [
       "5      0.8\n",
       "11     0.1\n",
       "12   0.095\n",
       "Name: month, dtype: float64"
      ]
     },
     "execution_count": 96,
     "metadata": {},
     "output_type": "execute_result"
    }
   ],
   "source": [
    "preparacionDatos.grupos(data_filter,['success'],num_grupos=1)\n",
    "preparacionDatos.grupos(data_filter,['routeDate','success'])\n",
    "preparacionDatos.grupos(data_filter,['region','success'])\n",
    "preparacionDatos.grupos(data_filter,['gender','success'])\n",
    "preparacionDatos.grupos(data_filter,['areaWealthLevel','success'])\n",
    "preparacionDatos.grupos(data_filter,['badWeather','success'])\n",
    "preparacionDatos.grupos(data_filter,['weatherRestrictions','success'])\n",
    "tmp = preparacionDatos.grupos(data_filter,['region-gender-areaWealthLevel-badWeather-weatherRestrictions','success'])\n",
    "          \n",
    "#Distribución variables númericas\n",
    "data_filter['areaPopulation'].describe() # Población de la zona cubierta, en miles\n",
    "data_filter['routeTotalDistance'].describe() #Distancia de la ruta recorrida en kms\n",
    "\n",
    "data_filter['numberOfShops'].describe() #Total Tiendas que cubrimos en la zona\n",
    "data_filter['marketShare'].describe() #Porcentaje de cuota de mercado que la empresa tiene en la zona en sus categorías.\n",
    "data_filter['avgAreaBenefits'].describe() #Beneficio económico semanal en la zona (en miles de $)\n",
    "data_filter['timeFromAvg'].describe() #Tiempo empleado en la ruta, comparado con la media (negativo significaría que se tardó menos que la media)\n",
    "\n",
    "#Distribución variables discretas\n",
    "preparacionDatos.grupos(data_filter,['edad','success']) #No hay tanta variedad de resultados por edad\n",
    "preparacionDatos.grupos(data_filter,['advertising','success']) #Inversión en material de punto de venta en las tiendas (de 0, que significa que no se invierte, a 3, que se invierte mucho)\n",
    "preparacionDatos.grupos(data_filter,['employeeLYScore','success']) #Calificando la puntuación del año pasado (de 1 a 5, siendo 5 la más alta). Los nuevos empleados tienen 3 por defecto.\n",
    "preparacionDatos.grupos(data_filter,['employeeTenure','success']) #Tiempo que el empleado lleva en la empresa\n",
    "preparacionDatos.grupos(data_filter,['employeePrevComps','success']) #Número de empresas en las que el empleado trabajó anteriormente desarrollando la misma función (5 significa 3 o más)."
   ]
  },
  {
   "cell_type": "code",
   "execution_count": 97,
   "id": "a7a21591-5126-4a0d-9760-b351fe8ffbed",
   "metadata": {},
   "outputs": [
    {
     "data": {
      "application/vnd.plotly.v1+json": {
       "config": {
        "plotlyServerURL": "https://plot.ly"
       },
       "data": [
        {
         "alignmentgroup": "True",
         "hovertemplate": "routeDate=%{x}<br>anonID=%{text}<br>success=%{marker.color}<extra></extra>",
         "legendgroup": "",
         "marker": {
          "color": [
           0,
           1,
           0,
           1,
           0,
           1,
           0,
           1,
           0,
           1,
           0,
           1,
           0,
           1,
           0,
           1,
           0,
           1,
           0,
           1
          ],
          "coloraxis": "coloraxis",
          "pattern": {
           "shape": ""
          }
         },
         "name": "",
         "offsetgroup": "",
         "orientation": "v",
         "showlegend": false,
         "text": [
          81,
          1944,
          85,
          1901,
          86,
          1920,
          59,
          1894,
          77,
          1795,
          67,
          1854,
          69,
          1888,
          77,
          1844,
          62,
          1929,
          66,
          1795
         ],
         "textposition": "auto",
         "texttemplate": "%{y}",
         "type": "bar",
         "x": [
          "2020-05-13T00:00:00",
          "2020-05-13T00:00:00",
          "2020-05-14T00:00:00",
          "2020-05-14T00:00:00",
          "2020-05-15T00:00:00",
          "2020-05-15T00:00:00",
          "2020-05-18T00:00:00",
          "2020-05-18T00:00:00",
          "2020-05-19T00:00:00",
          "2020-05-19T00:00:00",
          "2020-05-20T00:00:00",
          "2020-05-20T00:00:00",
          "2020-05-21T00:00:00",
          "2020-05-21T00:00:00",
          "2020-05-22T00:00:00",
          "2020-05-22T00:00:00",
          "2020-11-05T00:00:00",
          "2020-11-05T00:00:00",
          "2020-12-05T00:00:00",
          "2020-12-05T00:00:00"
         ],
         "xaxis": "x",
         "y": [
          81,
          1944,
          85,
          1901,
          86,
          1920,
          59,
          1894,
          77,
          1795,
          67,
          1854,
          69,
          1888,
          77,
          1844,
          62,
          1929,
          66,
          1795
         ],
         "yaxis": "y"
        }
       ],
       "layout": {
        "autosize": true,
        "barmode": "relative",
        "coloraxis": {
         "colorbar": {
          "title": {
           "text": "success"
          }
         },
         "colorscale": [
          [
           0,
           "rgb(20,44,66)"
          ],
          [
           1,
           "rgb(90,179,244)"
          ]
         ]
        },
        "legend": {
         "tracegroupgap": 0
        },
        "template": {
         "data": {
          "bar": [
           {
            "error_x": {
             "color": "rgb(51,51,51)"
            },
            "error_y": {
             "color": "rgb(51,51,51)"
            },
            "marker": {
             "line": {
              "color": "rgb(237,237,237)",
              "width": 0.5
             },
             "pattern": {
              "fillmode": "overlay",
              "size": 10,
              "solidity": 0.2
             }
            },
            "type": "bar"
           }
          ],
          "barpolar": [
           {
            "marker": {
             "line": {
              "color": "rgb(237,237,237)",
              "width": 0.5
             },
             "pattern": {
              "fillmode": "overlay",
              "size": 10,
              "solidity": 0.2
             }
            },
            "type": "barpolar"
           }
          ],
          "carpet": [
           {
            "aaxis": {
             "endlinecolor": "rgb(51,51,51)",
             "gridcolor": "white",
             "linecolor": "white",
             "minorgridcolor": "white",
             "startlinecolor": "rgb(51,51,51)"
            },
            "baxis": {
             "endlinecolor": "rgb(51,51,51)",
             "gridcolor": "white",
             "linecolor": "white",
             "minorgridcolor": "white",
             "startlinecolor": "rgb(51,51,51)"
            },
            "type": "carpet"
           }
          ],
          "choropleth": [
           {
            "colorbar": {
             "outlinewidth": 0,
             "tickcolor": "rgb(237,237,237)",
             "ticklen": 6,
             "ticks": "inside"
            },
            "type": "choropleth"
           }
          ],
          "contour": [
           {
            "colorbar": {
             "outlinewidth": 0,
             "tickcolor": "rgb(237,237,237)",
             "ticklen": 6,
             "ticks": "inside"
            },
            "colorscale": [
             [
              0,
              "rgb(20,44,66)"
             ],
             [
              1,
              "rgb(90,179,244)"
             ]
            ],
            "type": "contour"
           }
          ],
          "contourcarpet": [
           {
            "colorbar": {
             "outlinewidth": 0,
             "tickcolor": "rgb(237,237,237)",
             "ticklen": 6,
             "ticks": "inside"
            },
            "type": "contourcarpet"
           }
          ],
          "heatmap": [
           {
            "colorbar": {
             "outlinewidth": 0,
             "tickcolor": "rgb(237,237,237)",
             "ticklen": 6,
             "ticks": "inside"
            },
            "colorscale": [
             [
              0,
              "rgb(20,44,66)"
             ],
             [
              1,
              "rgb(90,179,244)"
             ]
            ],
            "type": "heatmap"
           }
          ],
          "heatmapgl": [
           {
            "colorbar": {
             "outlinewidth": 0,
             "tickcolor": "rgb(237,237,237)",
             "ticklen": 6,
             "ticks": "inside"
            },
            "colorscale": [
             [
              0,
              "rgb(20,44,66)"
             ],
             [
              1,
              "rgb(90,179,244)"
             ]
            ],
            "type": "heatmapgl"
           }
          ],
          "histogram": [
           {
            "marker": {
             "pattern": {
              "fillmode": "overlay",
              "size": 10,
              "solidity": 0.2
             }
            },
            "type": "histogram"
           }
          ],
          "histogram2d": [
           {
            "colorbar": {
             "outlinewidth": 0,
             "tickcolor": "rgb(237,237,237)",
             "ticklen": 6,
             "ticks": "inside"
            },
            "colorscale": [
             [
              0,
              "rgb(20,44,66)"
             ],
             [
              1,
              "rgb(90,179,244)"
             ]
            ],
            "type": "histogram2d"
           }
          ],
          "histogram2dcontour": [
           {
            "colorbar": {
             "outlinewidth": 0,
             "tickcolor": "rgb(237,237,237)",
             "ticklen": 6,
             "ticks": "inside"
            },
            "colorscale": [
             [
              0,
              "rgb(20,44,66)"
             ],
             [
              1,
              "rgb(90,179,244)"
             ]
            ],
            "type": "histogram2dcontour"
           }
          ],
          "mesh3d": [
           {
            "colorbar": {
             "outlinewidth": 0,
             "tickcolor": "rgb(237,237,237)",
             "ticklen": 6,
             "ticks": "inside"
            },
            "type": "mesh3d"
           }
          ],
          "parcoords": [
           {
            "line": {
             "colorbar": {
              "outlinewidth": 0,
              "tickcolor": "rgb(237,237,237)",
              "ticklen": 6,
              "ticks": "inside"
             }
            },
            "type": "parcoords"
           }
          ],
          "pie": [
           {
            "automargin": true,
            "type": "pie"
           }
          ],
          "scatter": [
           {
            "marker": {
             "colorbar": {
              "outlinewidth": 0,
              "tickcolor": "rgb(237,237,237)",
              "ticklen": 6,
              "ticks": "inside"
             }
            },
            "type": "scatter"
           }
          ],
          "scatter3d": [
           {
            "line": {
             "colorbar": {
              "outlinewidth": 0,
              "tickcolor": "rgb(237,237,237)",
              "ticklen": 6,
              "ticks": "inside"
             }
            },
            "marker": {
             "colorbar": {
              "outlinewidth": 0,
              "tickcolor": "rgb(237,237,237)",
              "ticklen": 6,
              "ticks": "inside"
             }
            },
            "type": "scatter3d"
           }
          ],
          "scattercarpet": [
           {
            "marker": {
             "colorbar": {
              "outlinewidth": 0,
              "tickcolor": "rgb(237,237,237)",
              "ticklen": 6,
              "ticks": "inside"
             }
            },
            "type": "scattercarpet"
           }
          ],
          "scattergeo": [
           {
            "marker": {
             "colorbar": {
              "outlinewidth": 0,
              "tickcolor": "rgb(237,237,237)",
              "ticklen": 6,
              "ticks": "inside"
             }
            },
            "type": "scattergeo"
           }
          ],
          "scattergl": [
           {
            "marker": {
             "colorbar": {
              "outlinewidth": 0,
              "tickcolor": "rgb(237,237,237)",
              "ticklen": 6,
              "ticks": "inside"
             }
            },
            "type": "scattergl"
           }
          ],
          "scattermapbox": [
           {
            "marker": {
             "colorbar": {
              "outlinewidth": 0,
              "tickcolor": "rgb(237,237,237)",
              "ticklen": 6,
              "ticks": "inside"
             }
            },
            "type": "scattermapbox"
           }
          ],
          "scatterpolar": [
           {
            "marker": {
             "colorbar": {
              "outlinewidth": 0,
              "tickcolor": "rgb(237,237,237)",
              "ticklen": 6,
              "ticks": "inside"
             }
            },
            "type": "scatterpolar"
           }
          ],
          "scatterpolargl": [
           {
            "marker": {
             "colorbar": {
              "outlinewidth": 0,
              "tickcolor": "rgb(237,237,237)",
              "ticklen": 6,
              "ticks": "inside"
             }
            },
            "type": "scatterpolargl"
           }
          ],
          "scatterternary": [
           {
            "marker": {
             "colorbar": {
              "outlinewidth": 0,
              "tickcolor": "rgb(237,237,237)",
              "ticklen": 6,
              "ticks": "inside"
             }
            },
            "type": "scatterternary"
           }
          ],
          "surface": [
           {
            "colorbar": {
             "outlinewidth": 0,
             "tickcolor": "rgb(237,237,237)",
             "ticklen": 6,
             "ticks": "inside"
            },
            "colorscale": [
             [
              0,
              "rgb(20,44,66)"
             ],
             [
              1,
              "rgb(90,179,244)"
             ]
            ],
            "type": "surface"
           }
          ],
          "table": [
           {
            "cells": {
             "fill": {
              "color": "rgb(237,237,237)"
             },
             "line": {
              "color": "white"
             }
            },
            "header": {
             "fill": {
              "color": "rgb(217,217,217)"
             },
             "line": {
              "color": "white"
             }
            },
            "type": "table"
           }
          ]
         },
         "layout": {
          "annotationdefaults": {
           "arrowhead": 0,
           "arrowwidth": 1
          },
          "autotypenumbers": "strict",
          "coloraxis": {
           "colorbar": {
            "outlinewidth": 0,
            "tickcolor": "rgb(237,237,237)",
            "ticklen": 6,
            "ticks": "inside"
           }
          },
          "colorscale": {
           "sequential": [
            [
             0,
             "rgb(20,44,66)"
            ],
            [
             1,
             "rgb(90,179,244)"
            ]
           ],
           "sequentialminus": [
            [
             0,
             "rgb(20,44,66)"
            ],
            [
             1,
             "rgb(90,179,244)"
            ]
           ]
          },
          "colorway": [
           "#F8766D",
           "#A3A500",
           "#00BF7D",
           "#00B0F6",
           "#E76BF3"
          ],
          "font": {
           "color": "rgb(51,51,51)"
          },
          "geo": {
           "bgcolor": "white",
           "lakecolor": "white",
           "landcolor": "rgb(237,237,237)",
           "showlakes": true,
           "showland": true,
           "subunitcolor": "white"
          },
          "hoverlabel": {
           "align": "left"
          },
          "hovermode": "closest",
          "paper_bgcolor": "white",
          "plot_bgcolor": "rgb(237,237,237)",
          "polar": {
           "angularaxis": {
            "gridcolor": "white",
            "linecolor": "white",
            "showgrid": true,
            "tickcolor": "rgb(51,51,51)",
            "ticks": "outside"
           },
           "bgcolor": "rgb(237,237,237)",
           "radialaxis": {
            "gridcolor": "white",
            "linecolor": "white",
            "showgrid": true,
            "tickcolor": "rgb(51,51,51)",
            "ticks": "outside"
           }
          },
          "scene": {
           "xaxis": {
            "backgroundcolor": "rgb(237,237,237)",
            "gridcolor": "white",
            "gridwidth": 2,
            "linecolor": "white",
            "showbackground": true,
            "showgrid": true,
            "tickcolor": "rgb(51,51,51)",
            "ticks": "outside",
            "zerolinecolor": "white"
           },
           "yaxis": {
            "backgroundcolor": "rgb(237,237,237)",
            "gridcolor": "white",
            "gridwidth": 2,
            "linecolor": "white",
            "showbackground": true,
            "showgrid": true,
            "tickcolor": "rgb(51,51,51)",
            "ticks": "outside",
            "zerolinecolor": "white"
           },
           "zaxis": {
            "backgroundcolor": "rgb(237,237,237)",
            "gridcolor": "white",
            "gridwidth": 2,
            "linecolor": "white",
            "showbackground": true,
            "showgrid": true,
            "tickcolor": "rgb(51,51,51)",
            "ticks": "outside",
            "zerolinecolor": "white"
           }
          },
          "shapedefaults": {
           "fillcolor": "black",
           "line": {
            "width": 0
           },
           "opacity": 0.3
          },
          "ternary": {
           "aaxis": {
            "gridcolor": "white",
            "linecolor": "white",
            "showgrid": true,
            "tickcolor": "rgb(51,51,51)",
            "ticks": "outside"
           },
           "baxis": {
            "gridcolor": "white",
            "linecolor": "white",
            "showgrid": true,
            "tickcolor": "rgb(51,51,51)",
            "ticks": "outside"
           },
           "bgcolor": "rgb(237,237,237)",
           "caxis": {
            "gridcolor": "white",
            "linecolor": "white",
            "showgrid": true,
            "tickcolor": "rgb(51,51,51)",
            "ticks": "outside"
           }
          },
          "xaxis": {
           "automargin": true,
           "gridcolor": "white",
           "linecolor": "white",
           "showgrid": true,
           "tickcolor": "rgb(51,51,51)",
           "ticks": "outside",
           "title": {
            "standoff": 15
           },
           "zerolinecolor": "white"
          },
          "yaxis": {
           "automargin": true,
           "gridcolor": "white",
           "linecolor": "white",
           "showgrid": true,
           "tickcolor": "rgb(51,51,51)",
           "ticks": "outside",
           "title": {
            "standoff": 15
           },
           "zerolinecolor": "white"
          }
         }
        },
        "title": {
         "text": "80% de registros entre 13 al 22 de Mayo 2020. <br><sup>En cada día tenemos entre 9-10% con 1 (distribución esperada) y menos del .5% en 0 (distribución no esperada).</sup>"
        },
        "xaxis": {
         "anchor": "y",
         "autorange": true,
         "domain": [
          0,
          1
         ],
         "range": [
          "2020-05-12 12:00",
          "2020-12-05 12:00"
         ],
         "rangebreaks": [
          {
           "values": [
            "2020-05-16",
            "2020-05-17",
            "2020-05-23",
            "2020-05-24",
            "2020-05-25",
            "2020-05-26",
            "2020-05-27",
            "2020-05-28",
            "2020-05-29",
            "2020-05-30",
            "2020-05-31",
            "2020-06-01",
            "2020-06-02",
            "2020-06-03",
            "2020-06-04",
            "2020-06-05",
            "2020-06-06",
            "2020-06-07",
            "2020-06-08",
            "2020-06-09",
            "2020-06-10",
            "2020-06-11",
            "2020-06-12",
            "2020-06-13",
            "2020-06-14",
            "2020-06-15",
            "2020-06-16",
            "2020-06-17",
            "2020-06-18",
            "2020-06-19",
            "2020-06-20",
            "2020-06-21",
            "2020-06-22",
            "2020-06-23",
            "2020-06-24",
            "2020-06-25",
            "2020-06-26",
            "2020-06-27",
            "2020-06-28",
            "2020-06-29",
            "2020-06-30",
            "2020-07-01",
            "2020-07-02",
            "2020-07-03",
            "2020-07-04",
            "2020-07-05",
            "2020-07-06",
            "2020-07-07",
            "2020-07-08",
            "2020-07-09",
            "2020-07-10",
            "2020-07-11",
            "2020-07-12",
            "2020-07-13",
            "2020-07-14",
            "2020-07-15",
            "2020-07-16",
            "2020-07-17",
            "2020-07-18",
            "2020-07-19",
            "2020-07-20",
            "2020-07-21",
            "2020-07-22",
            "2020-07-23",
            "2020-07-24",
            "2020-07-25",
            "2020-07-26",
            "2020-07-27",
            "2020-07-28",
            "2020-07-29",
            "2020-07-30",
            "2020-07-31",
            "2020-08-01",
            "2020-08-02",
            "2020-08-03",
            "2020-08-04",
            "2020-08-05",
            "2020-08-06",
            "2020-08-07",
            "2020-08-08",
            "2020-08-09",
            "2020-08-10",
            "2020-08-11",
            "2020-08-12",
            "2020-08-13",
            "2020-08-14",
            "2020-08-15",
            "2020-08-16",
            "2020-08-17",
            "2020-08-18",
            "2020-08-19",
            "2020-08-20",
            "2020-08-21",
            "2020-08-22",
            "2020-08-23",
            "2020-08-24",
            "2020-08-25",
            "2020-08-26",
            "2020-08-27",
            "2020-08-28",
            "2020-08-29",
            "2020-08-30",
            "2020-08-31",
            "2020-09-01",
            "2020-09-02",
            "2020-09-03",
            "2020-09-04",
            "2020-09-05",
            "2020-09-06",
            "2020-09-07",
            "2020-09-08",
            "2020-09-09",
            "2020-09-10",
            "2020-09-11",
            "2020-09-12",
            "2020-09-13",
            "2020-09-14",
            "2020-09-15",
            "2020-09-16",
            "2020-09-17",
            "2020-09-18",
            "2020-09-19",
            "2020-09-20",
            "2020-09-21",
            "2020-09-22",
            "2020-09-23",
            "2020-09-24",
            "2020-09-25",
            "2020-09-26",
            "2020-09-27",
            "2020-09-28",
            "2020-09-29",
            "2020-09-30",
            "2020-10-01",
            "2020-10-02",
            "2020-10-03",
            "2020-10-04",
            "2020-10-05",
            "2020-10-06",
            "2020-10-07",
            "2020-10-08",
            "2020-10-09",
            "2020-10-10",
            "2020-10-11",
            "2020-10-12",
            "2020-10-13",
            "2020-10-14",
            "2020-10-15",
            "2020-10-16",
            "2020-10-17",
            "2020-10-18",
            "2020-10-19",
            "2020-10-20",
            "2020-10-21",
            "2020-10-22",
            "2020-10-23",
            "2020-10-24",
            "2020-10-25",
            "2020-10-26",
            "2020-10-27",
            "2020-10-28",
            "2020-10-29",
            "2020-10-30",
            "2020-10-31",
            "2020-11-01",
            "2020-11-02",
            "2020-11-03",
            "2020-11-04",
            "2020-11-06",
            "2020-11-07",
            "2020-11-08",
            "2020-11-09",
            "2020-11-10",
            "2020-11-11",
            "2020-11-12",
            "2020-11-13",
            "2020-11-14",
            "2020-11-15",
            "2020-11-16",
            "2020-11-17",
            "2020-11-18",
            "2020-11-19",
            "2020-11-20",
            "2020-11-21",
            "2020-11-22",
            "2020-11-23",
            "2020-11-24",
            "2020-11-25",
            "2020-11-26",
            "2020-11-27",
            "2020-11-28",
            "2020-11-29",
            "2020-11-30",
            "2020-12-01",
            "2020-12-02",
            "2020-12-03",
            "2020-12-04"
           ]
          }
         ],
         "title": {
          "text": "routeDate"
         },
         "type": "date"
        },
        "yaxis": {
         "anchor": "x",
         "autorange": true,
         "domain": [
          0,
          1
         ],
         "range": [
          0,
          2131.5789473684213
         ],
         "title": {
          "text": "anonID"
         },
         "type": "linear"
        }
       }
      },
      "image/png": "[encoded data removed]"
     },
     "metadata": {},
     "output_type": "display_data"
    }
   ],
   "source": [
    "tmp = data_filter.groupby(['routeDate','day','month','success'], as_index = True).count().reset_index()\n",
    "\n",
    "#lÓGICA PARA EXCLUIR FECHAS VACÍAS DEL GRÁFICO.\n",
    "dt_all = pd.date_range(start=tmp['routeDate'].iloc[0],end=tmp['routeDate'].iloc[-1])\n",
    "dt_obs = [d.strftime(\"%Y-%m-%d\") for d in tmp['routeDate']]\n",
    "dt_breaks = [d for d in dt_all.strftime(\"%Y-%m-%d\").tolist() if not d in dt_obs]\n",
    "\n",
    "fig = px.bar(tmp, x=\"routeDate\", y=\"anonID\",\n",
    "                  color=\"success\",\n",
    "                  text_auto=True,\n",
    "                  text=\"anonID\",\n",
    "                  title = \"80% de registros entre 13 al 22 de Mayo 2020. <br><sup>En cada día tenemos entre 9-10% con 1 (distribución esperada) y menos del .5% en 0 (distribución no esperada).</sup>\")\n",
    "\n",
    "fig.update_xaxes(\n",
    "    rangebreaks=[dict(values=dt_breaks)]\n",
    ")\n",
    "\n",
    "fig.show()"
   ]
  },
  {
   "cell_type": "code",
   "execution_count": 105,
   "id": "d6f8509d-2106-454b-a233-ba47200c15e4",
   "metadata": {},
   "outputs": [
    {
     "name": "stdout",
     "output_type": "stream",
     "text": [
      "         anonID\n",
      "success        \n",
      "0           729\n",
      "1         18764\n",
      "                    success\n",
      "routeDate  success         \n",
      "2020-05-13 0              4\n",
      "           1             96\n",
      "2020-05-14 0            4.3\n",
      "           1             96\n",
      "2020-05-15 0            4.3\n",
      "           1             96\n",
      "2020-05-18 0              3\n",
      "           1             97\n",
      "2020-05-19 0            4.1\n",
      "           1             96\n",
      "2020-05-20 0            3.5\n",
      "           1             96\n",
      "2020-05-21 0            3.5\n",
      "           1             96\n",
      "2020-05-22 0              4\n",
      "           1             96\n",
      "2020-11-05 0            3.1\n",
      "           1             97\n",
      "2020-12-05 0            3.5\n",
      "           1             96\n",
      "                success\n",
      "region success         \n",
      "AMESA  0            3.9\n",
      "       1             96\n",
      "APAC   0            3.8\n",
      "       1             96\n",
      "Europe 0            3.6\n",
      "       1             96\n",
      "LATAM  0            4.2\n",
      "       1             96\n",
      "NA     0            3.5\n",
      "       1             96\n",
      "                success\n",
      "gender success         \n",
      "F      0            2.9\n",
      "       1             97\n",
      "M      0            3.8\n",
      "       1             96\n",
      "X      1          1e+02\n",
      "                         success\n",
      "areaWealthLevel success         \n",
      "High            0            3.8\n",
      "                1             96\n",
      "Low             0            3.9\n",
      "                1             96\n",
      "Mid             0            3.6\n",
      "                1             96\n",
      "NA              0            3.9\n",
      "                1             96\n"
     ]
    }
   ],
   "source": [
    "#Conteo de variables categoricas, respecto a la distribución (0,1)\n",
    "#region, genero, areaWealthLvele tienen un 96-97% con distrubución esperada y entre 3-4% distribución no esperada. \n",
    "def grupos(grupo = ['region','success'], num_grupos = 2):\n",
    "    if num_grupos == 1:\n",
    "        return data_filter.groupby(grupo).count().iloc[:,:1]\n",
    "    else :\n",
    "        return data_filter.groupby(grupo).agg({'success': 'count'}).groupby(level=0).apply(lambda x: round(100 * x / float(x.sum()),1)) \n",
    "\n",
    "print(grupos(['success'],num_grupos=1))\n",
    "print(grupos(['routeDate','success']))\n",
    "print(grupos(['region','success']))\n",
    "print(grupos(['gender','success']))\n",
    "print(grupos(['areaWealthLevel','success']))"
   ]
  },
  {
   "cell_type": "code",
   "execution_count": 104,
   "id": "e17db589-e320-4c61-8e03-4f7811a89d59",
   "metadata": {},
   "outputs": [
    {
     "name": "stdout",
     "output_type": "stream",
     "text": [
      "                    success\n",
      "badWeather success         \n",
      "No         0            3.6\n",
      "           1             96\n",
      "Yes        0            5.6\n",
      "           1             94\n",
      "                             success\n",
      "weatherRestrictions success         \n",
      "No                  0            3.7\n",
      "                    1             96\n",
      "Yes                 0            9.4\n",
      "                    1             91\n"
     ]
    }
   ],
   "source": [
    "#badWeather: Malas condiciones meteorológicas en la zona, como precipitaciones o viento fuerte\n",
    "#weatheRestrictions: Afectaciones en la zona debido al clima\n",
    "\n",
    "#Tenemos un ligero aumento cuando el clima afecta la ruta.\n",
    "\n",
    "print(grupos(['badWeather','success']))\n",
    "print(grupos(['weatherRestrictions','success']))\n",
    "#tmp = grupos(['region-gender-areaWealthLevel-badWeather-weatherRestrictions','success'])"
   ]
  },
  {
   "cell_type": "markdown",
   "id": "fce58034-7b82-4e5f-b9f9-3494e46f5f07",
   "metadata": {},
   "source": [
    "**Analísis data model correlaciones.**"
   ]
  },
  {
   "cell_type": "code",
   "execution_count": 13,
   "id": "57f2d2a0-36c4-43ae-8b96-b23e903ca9c2",
   "metadata": {},
   "outputs": [
    {
     "data": {
      "text/html": [
       "<div>\n",
       "<style scoped>\n",
       "    .dataframe tbody tr th:only-of-type {\n",
       "        vertical-align: middle;\n",
       "    }\n",
       "\n",
       "    .dataframe tbody tr th {\n",
       "        vertical-align: top;\n",
       "    }\n",
       "\n",
       "    .dataframe thead th {\n",
       "        text-align: right;\n",
       "    }\n",
       "</style>\n",
       "<table border=\"1\" class=\"dataframe\">\n",
       "  <thead>\n",
       "    <tr style=\"text-align: right;\">\n",
       "      <th></th>\n",
       "      <th>index</th>\n",
       "      <th>variable_corr</th>\n",
       "      <th>corr_person</th>\n",
       "    </tr>\n",
       "  </thead>\n",
       "  <tbody>\n",
       "    <tr>\n",
       "      <th>233</th>\n",
       "      <td>advertising</td>\n",
       "      <td>employeeLYScore</td>\n",
       "      <td>0.62</td>\n",
       "    </tr>\n",
       "    <tr>\n",
       "      <th>217</th>\n",
       "      <td>employeeLYScore</td>\n",
       "      <td>advertising</td>\n",
       "      <td>0.62</td>\n",
       "    </tr>\n",
       "    <tr>\n",
       "      <th>115</th>\n",
       "      <td>employeeLYScore</td>\n",
       "      <td>areaPopulation</td>\n",
       "      <td>0.59</td>\n",
       "    </tr>\n",
       "    <tr>\n",
       "      <th>227</th>\n",
       "      <td>areaPopulation</td>\n",
       "      <td>employeeLYScore</td>\n",
       "      <td>0.59</td>\n",
       "    </tr>\n",
       "    <tr>\n",
       "      <th>73</th>\n",
       "      <td>weatherRestrictions</td>\n",
       "      <td>badWeather</td>\n",
       "      <td>0.41</td>\n",
       "    </tr>\n",
       "    <tr>\n",
       "      <th>89</th>\n",
       "      <td>badWeather</td>\n",
       "      <td>weatherRestrictions</td>\n",
       "      <td>0.41</td>\n",
       "    </tr>\n",
       "    <tr>\n",
       "      <th>253</th>\n",
       "      <td>employeePrevComps</td>\n",
       "      <td>employeeTenure</td>\n",
       "      <td>0.36</td>\n",
       "    </tr>\n",
       "    <tr>\n",
       "      <th>269</th>\n",
       "      <td>employeeTenure</td>\n",
       "      <td>employeePrevComps</td>\n",
       "      <td>0.36</td>\n",
       "    </tr>\n",
       "    <tr>\n",
       "      <th>214</th>\n",
       "      <td>avgAreaBenefits</td>\n",
       "      <td>advertising</td>\n",
       "      <td>0.34</td>\n",
       "    </tr>\n",
       "    <tr>\n",
       "      <th>182</th>\n",
       "      <td>advertising</td>\n",
       "      <td>avgAreaBenefits</td>\n",
       "      <td>0.34</td>\n",
       "    </tr>\n",
       "    <tr>\n",
       "      <th>114</th>\n",
       "      <td>advertising</td>\n",
       "      <td>areaPopulation</td>\n",
       "      <td>0.33</td>\n",
       "    </tr>\n",
       "    <tr>\n",
       "      <th>210</th>\n",
       "      <td>areaPopulation</td>\n",
       "      <td>advertising</td>\n",
       "      <td>0.33</td>\n",
       "    </tr>\n",
       "    <tr>\n",
       "      <th>231</th>\n",
       "      <td>avgAreaBenefits</td>\n",
       "      <td>employeeLYScore</td>\n",
       "      <td>0.21</td>\n",
       "    </tr>\n",
       "    <tr>\n",
       "      <th>183</th>\n",
       "      <td>employeeLYScore</td>\n",
       "      <td>avgAreaBenefits</td>\n",
       "      <td>0.21</td>\n",
       "    </tr>\n",
       "    <tr>\n",
       "      <th>202</th>\n",
       "      <td>employeePrevComps</td>\n",
       "      <td>timeFromAvg</td>\n",
       "      <td>0.19</td>\n",
       "    </tr>\n",
       "  </tbody>\n",
       "</table>\n",
       "</div>"
      ],
      "text/plain": [
       "                   index        variable_corr  corr_person\n",
       "233          advertising      employeeLYScore         0.62\n",
       "217      employeeLYScore          advertising         0.62\n",
       "115      employeeLYScore       areaPopulation         0.59\n",
       "227       areaPopulation      employeeLYScore         0.59\n",
       "73   weatherRestrictions           badWeather         0.41\n",
       "89            badWeather  weatherRestrictions         0.41\n",
       "253    employeePrevComps       employeeTenure         0.36\n",
       "269       employeeTenure    employeePrevComps         0.36\n",
       "214      avgAreaBenefits          advertising         0.34\n",
       "182          advertising      avgAreaBenefits         0.34\n",
       "114          advertising       areaPopulation         0.33\n",
       "210       areaPopulation          advertising         0.33\n",
       "231      avgAreaBenefits      employeeLYScore         0.21\n",
       "183      employeeLYScore      avgAreaBenefits         0.21\n",
       "202    employeePrevComps          timeFromAvg         0.19"
      ]
     },
     "execution_count": 13,
     "metadata": {},
     "output_type": "execute_result"
    }
   ],
   "source": [
    "#Tenemos 5 variables más o menos correlacionadas positivamente\n",
    "#advertising ~ employeeLYScore     0.615878 => Entre mayor es la inversión mayor es la calificación\n",
    "#employeeLYScore ~ areaPopulation     0.594624 \n",
    "#badWeather ~ weatherRestrictions     0.408545 => Mal clima implica afectaciones en la zona.\n",
    "#employeeTenure ~ employeePrevComps .35 => En ocasiones entre más tiempo tiene en la empresa ya estuvo en otras empresas.\n",
    "#advertising ~ avgAreaBenefits     0.33 => En ocasiones entre mayor es la inversión mejores beneficios en la zona.\n",
    " \n",
    "tmp = data_model.corr().reset_index()\n",
    "tmp = tmp.melt(id_vars = 'index', value_vars =['edad', 'region', 'gender', 'areaWealthLevel', 'badWeather',\n",
    "       'weatherRestrictions', 'areaPopulation', 'routeTotalDistance',\n",
    "       'numberOfShops', 'marketShare', 'avgAreaBenefits', 'timeFromAvg',\n",
    "       'advertising', 'employeeLYScore', 'employeeTenure',\n",
    "       'employeePrevComps'], \n",
    "        var_name ='variable_corr', value_name ='corr_person').sort_values(\"corr_person\",ascending = False)\n",
    "tmp = tmp[tmp[\"corr_person\"] != 1]\n",
    "tmp.head(15)\n",
    "#tmp.tail()"
   ]
  },
  {
   "cell_type": "markdown",
   "id": "d0480631-6bd1-4d5a-957b-9e63278996b5",
   "metadata": {},
   "source": [
    "## Primer Modelo Clasificación."
   ]
  },
  {
   "cell_type": "code",
   "execution_count": 14,
   "id": "64ab2005-ba0a-4543-ba9f-dfb48795620c",
   "metadata": {},
   "outputs": [
    {
     "data": {
      "text/html": [
       "<div>\n",
       "<style scoped>\n",
       "    .dataframe tbody tr th:only-of-type {\n",
       "        vertical-align: middle;\n",
       "    }\n",
       "\n",
       "    .dataframe tbody tr th {\n",
       "        vertical-align: top;\n",
       "    }\n",
       "\n",
       "    .dataframe thead th {\n",
       "        text-align: right;\n",
       "    }\n",
       "</style>\n",
       "<table border=\"1\" class=\"dataframe\">\n",
       "  <thead>\n",
       "    <tr style=\"text-align: right;\">\n",
       "      <th></th>\n",
       "      <th>edad</th>\n",
       "      <th>region</th>\n",
       "      <th>gender</th>\n",
       "      <th>areaWealthLevel</th>\n",
       "      <th>badWeather</th>\n",
       "      <th>weatherRestrictions</th>\n",
       "      <th>areaPopulation</th>\n",
       "      <th>routeTotalDistance</th>\n",
       "      <th>numberOfShops</th>\n",
       "      <th>marketShare</th>\n",
       "      <th>avgAreaBenefits</th>\n",
       "      <th>timeFromAvg</th>\n",
       "      <th>advertising</th>\n",
       "      <th>employeeLYScore</th>\n",
       "      <th>employeeTenure</th>\n",
       "      <th>employeePrevComps</th>\n",
       "    </tr>\n",
       "  </thead>\n",
       "  <tbody>\n",
       "    <tr>\n",
       "      <th>2034</th>\n",
       "      <td>40</td>\n",
       "      <td>4</td>\n",
       "      <td>1</td>\n",
       "      <td>0</td>\n",
       "      <td>0</td>\n",
       "      <td>0</td>\n",
       "      <td>44</td>\n",
       "      <td>25</td>\n",
       "      <td>22</td>\n",
       "      <td>47</td>\n",
       "      <td>21</td>\n",
       "      <td>-0.99</td>\n",
       "      <td>3</td>\n",
       "      <td>4</td>\n",
       "      <td>2</td>\n",
       "      <td>2</td>\n",
       "    </tr>\n",
       "    <tr>\n",
       "      <th>21430</th>\n",
       "      <td>33</td>\n",
       "      <td>3</td>\n",
       "      <td>1</td>\n",
       "      <td>2</td>\n",
       "      <td>0</td>\n",
       "      <td>0</td>\n",
       "      <td>4.4</td>\n",
       "      <td>27</td>\n",
       "      <td>26</td>\n",
       "      <td>53</td>\n",
       "      <td>14</td>\n",
       "      <td>0</td>\n",
       "      <td>0</td>\n",
       "      <td>3</td>\n",
       "      <td>0</td>\n",
       "      <td>0</td>\n",
       "    </tr>\n",
       "    <tr>\n",
       "      <th>2652</th>\n",
       "      <td>42</td>\n",
       "      <td>0</td>\n",
       "      <td>1</td>\n",
       "      <td>1</td>\n",
       "      <td>0</td>\n",
       "      <td>0</td>\n",
       "      <td>66</td>\n",
       "      <td>24</td>\n",
       "      <td>26</td>\n",
       "      <td>88</td>\n",
       "      <td>24</td>\n",
       "      <td>0</td>\n",
       "      <td>3</td>\n",
       "      <td>5</td>\n",
       "      <td>3</td>\n",
       "      <td>2</td>\n",
       "    </tr>\n",
       "    <tr>\n",
       "      <th>5097</th>\n",
       "      <td>52</td>\n",
       "      <td>1</td>\n",
       "      <td>1</td>\n",
       "      <td>2</td>\n",
       "      <td>0</td>\n",
       "      <td>0</td>\n",
       "      <td>47</td>\n",
       "      <td>23</td>\n",
       "      <td>28</td>\n",
       "      <td>51</td>\n",
       "      <td>21</td>\n",
       "      <td>0.07</td>\n",
       "      <td>3</td>\n",
       "      <td>4</td>\n",
       "      <td>3</td>\n",
       "      <td>1</td>\n",
       "    </tr>\n",
       "    <tr>\n",
       "      <th>29207</th>\n",
       "      <td>55</td>\n",
       "      <td>1</td>\n",
       "      <td>1</td>\n",
       "      <td>0</td>\n",
       "      <td>0</td>\n",
       "      <td>0</td>\n",
       "      <td>63</td>\n",
       "      <td>24</td>\n",
       "      <td>24</td>\n",
       "      <td>50</td>\n",
       "      <td>12</td>\n",
       "      <td>0</td>\n",
       "      <td>2</td>\n",
       "      <td>5</td>\n",
       "      <td>2</td>\n",
       "      <td>1</td>\n",
       "    </tr>\n",
       "  </tbody>\n",
       "</table>\n",
       "</div>"
      ],
      "text/plain": [
       "       edad  region  gender  areaWealthLevel  badWeather  weatherRestrictions  \\\n",
       "2034     40       4       1                0           0                    0   \n",
       "21430    33       3       1                2           0                    0   \n",
       "2652     42       0       1                1           0                    0   \n",
       "5097     52       1       1                2           0                    0   \n",
       "29207    55       1       1                0           0                    0   \n",
       "\n",
       "       areaPopulation  routeTotalDistance  numberOfShops  marketShare  \\\n",
       "2034               44                  25             22           47   \n",
       "21430             4.4                  27             26           53   \n",
       "2652               66                  24             26           88   \n",
       "5097               47                  23             28           51   \n",
       "29207              63                  24             24           50   \n",
       "\n",
       "       avgAreaBenefits  timeFromAvg  advertising  employeeLYScore  \\\n",
       "2034                21        -0.99            3                4   \n",
       "21430               14            0            0                3   \n",
       "2652                24            0            3                5   \n",
       "5097                21         0.07            3                4   \n",
       "29207               12            0            2                5   \n",
       "\n",
       "       employeeTenure  employeePrevComps  \n",
       "2034                2                  2  \n",
       "21430               0                  0  \n",
       "2652                3                  2  \n",
       "5097                3                  1  \n",
       "29207               2                  1  "
      ]
     },
     "execution_count": 14,
     "metadata": {},
     "output_type": "execute_result"
    }
   ],
   "source": [
    "#Primer Modelo Clasificación KNN\n",
    "#Propuesta Modelo : Supervisado -> Clasificación : (KNeighborsClassifier, LogisticRegression, LinearSVC, SVC)\n",
    "\n",
    "#Modelo KNN\n",
    "x, y = data_model.iloc[:,:-1], data_model.success\n",
    "\n",
    "x_train, x_test, y_train, y_test = train_test_split(x, y, test_size = 0.3, random_state = 123, stratify = y)\n",
    "\n",
    "y_test.value_counts(normalize = True)\n",
    "y_train.value_counts(normalize = True)\n",
    "\n",
    "x_train.head()"
   ]
  },
  {
   "cell_type": "markdown",
   "id": "a0617158-fe99-4146-995a-876c3761be4c",
   "metadata": {},
   "source": [
    "Probaremos con un KNN, primero buscaremos un *n_neigbors* \"óptimo\".\n",
    "\n",
    "Graficando y variando el numero de n_neighbors y su presición."
   ]
  },
  {
   "cell_type": "code",
   "execution_count": null,
   "id": "5c40c69c-4d6f-422a-b514-10d78524338e",
   "metadata": {},
   "outputs": [],
   "source": [
    "#Grafica variando el numero de n_neighbors y su presición.\n",
    "n_neighbors = range(1,7)\n",
    "train  = []\n",
    "test = []\n",
    "\n",
    "for i in n_neighbors:\n",
    "    knn = KNeighborsClassifier(n_neighbors=i)\n",
    "    knn.fit(x_train, y_train)\n",
    "    \n",
    "    train.append(knn.score(x_train, y_train))\n",
    "    test.append(knn.score(x_test, y_test))\n",
    "\n",
    "plt.rcParams['figure.figsize'] = [5, 5]\n",
    "line_up, = plt.plot(n_neighbors, train , label='Entrenamiento Accuracy')\n",
    "line_down, = plt.plot(n_neighbors, test, label='Testeo Accuracy')\n",
    "plt.title(\"KNN : Variación de numero de cluster.\")\n",
    "plt.legend([line_up, line_down], ['Entrenamiento Accuracy', 'Testeo Accuracy'])\n",
    "\n",
    "plt.annotate('Overfiting: Bajo sesgo, alta varianza.', xy = (2, .982), arrowprops = {'facecolor':'gray', 'width': 3, 'shrink': 0.03})\n",
    "plt.annotate('Optimo', xy = (4, .95), arrowprops = {'facecolor':'gray', 'width': 3, 'shrink': 0.03})\n",
    "plt.annotate('Underfiting : Alto sesgo, baja varianza.', xy = (2, .93), arrowprops = {'facecolor':'gray', 'width': 3, 'shrink': 0.03})"
   ]
  },
  {
   "cell_type": "markdown",
   "id": "83a56002-f3aa-4064-afe3-8b82ff1d7a81",
   "metadata": {},
   "source": [
    "Analísis Sesgo y Varianza de nuestos modelo Knn."
   ]
  },
  {
   "cell_type": "code",
   "execution_count": null,
   "id": "b25dfd81-2b94-4821-8a5b-47356cfcbe9b",
   "metadata": {},
   "outputs": [],
   "source": [
    "#Para varios valores de k en kNN, examinemos también cómo van a ser nuestras pérdidas, sesgos y varianzas\n",
    "bias_KnnClass, var_KnnClass,error_KnnClass, = [], [], []\n",
    "for k in range(1,8):\n",
    "    clf_knn = KNeighborsClassifier(n_neighbors=k)\n",
    "    avg_expected_loss, avg_bias, avg_var = bias_variance_decomp(clf_knn, x_train.values, y_train.values, x_test.values, y_test.values, loss = '0-1_loss', random_seed = 123)\n",
    "    bias_KnnClass.append(avg_bias)\n",
    "    var_KnnClass.append(avg_var)\n",
    "    error_KnnClass.append(avg_expected_loss)\n",
    "    print(f\"Pérdida media esperada {avg_expected_loss}\")\n",
    "    print(f\"Media bias {avg_bias}\")\n",
    "    print(f\"Media variance {avg_var}\")\n",
    "plt.plot(range(1,8), error_KnnClass, 'red', label = 'total_error',linestyle='dashed')\n",
    "plt.plot(range(1,8), bias_KnnClass, 'brown', label = 'bias^2')\n",
    "plt.plot(range(1,8), var_KnnClass, 'yellow', label = 'varianza')\n",
    "plt.xlabel('Complejidad del modelo con (K)')\n",
    "plt.ylabel('Error')\n",
    "plt.legend()"
   ]
  },
  {
   "cell_type": "markdown",
   "id": "02b9fa94-0961-4f07-99d8-baacced33497",
   "metadata": {},
   "source": [
    "Mejor modelo de acuerdo a Sesgo y Varianza."
   ]
  },
  {
   "cell_type": "code",
   "execution_count": null,
   "id": "ea87e53b-89e4-422b-84b6-9eba4d7c45ad",
   "metadata": {},
   "outputs": [],
   "source": [
    "#Mejor modelo analizando knn con Sesgo y Varianza.\n",
    "clf_knn = KNeighborsClassifier(n_neighbors=4)\n",
    "clf_knn.fit(x_train, y_train)\n",
    "score = clf_knn.score(x_train, y_train)\n",
    "print(\"Score: \", score)\n",
    "\n",
    "y_pred = clf_knn.predict(x_test)\n",
    "\n",
    "avg_expected_loss, avg_bias, avg_var = bias_variance_decomp(clf_knn, x_train.values, y_train.values, x_test.values, y_test.values, loss = '0-1_loss', random_seed = 123)\n",
    "print('Pérdida media esperada: %.3f' % avg_expected_loss)\n",
    "print('Media Bias: %.3f' % avg_bias)\n",
    "print('Media Variance: %.3f' % avg_var)\n",
    "print('Skelarn 0-1 perdida : %.3f' % zero_one_loss(y_test, y_pred))"
   ]
  },
  {
   "cell_type": "markdown",
   "id": "67384f76-1372-448f-9522-8bf979debb26",
   "metadata": {},
   "source": [
    "Métricas de rendimiento para nuestro clasificador binario.\n",
    "\n",
    "Tabla de contingencia , curva ROC y areá AUC.\n"
   ]
  },
  {
   "cell_type": "code",
   "execution_count": null,
   "id": "0bfe609f-a3d9-41cb-9d0d-a5e0003c4364",
   "metadata": {},
   "outputs": [],
   "source": [
    "#Métricas de Clásificación para nuestro modelo knn = 4.\n",
    "#     Predicted: 0   Predicted: 1\n",
    "#0    True Positive  False Negative\n",
    "#1    False Positive True Negative\n",
    "\n",
    "cm = confusion_matrix(y_test, y_pred)\n",
    "y_test.value_counts()\n",
    "print(cm)\n",
    "\n",
    "accuracy_score(y_test, y_pred) #Porcentaje total de valores correctamente clasificados, tanto positivos como negativos.\n",
    "precision_score(y_test, y_pred) #Saber qué porcentaje de valores que se han clasificado como positivos son realmente positivos.\n",
    "recall_score(y_test, y_pred) #Cuantos valores positivos son correctamente clasificados.\n",
    "f1_score(y_test, y_pred) #\n",
    "\n",
    "cr = classification_report(y_test, y_pred)\n",
    "print(cr)"
   ]
  },
  {
   "cell_type": "code",
   "execution_count": null,
   "id": "ba10ad01-da78-43ff-b7b3-65fa89db226b",
   "metadata": {},
   "outputs": [],
   "source": [
    "#Curva Roc\n",
    "fpr, tpr, threshold = roc_curve(y_test, y_pred)\n",
    "roc_auc = auc(fpr, tpr)\n",
    "\n",
    "plt.title('Característica operativa del receptor.')\n",
    "plt.plot(fpr, tpr, 'b', label = 'AUC = %0.2f' % roc_auc)\n",
    "plt.legend(loc = 'lower right')\n",
    "plt.plot([0, 1], [0, 1],'r--')\n",
    "plt.xlim([0, 1])\n",
    "plt.ylim([0, 1])\n",
    "plt.ylabel('True Positive Rate')\n",
    "plt.xlabel('False Positive Rate')\n",
    "plt.title('Curva ROC para kNN')\n",
    "plt.show()"
   ]
  },
  {
   "cell_type": "markdown",
   "id": "091ed327-316c-4cc6-98ab-bf46e9aeb114",
   "metadata": {},
   "source": [
    "### Knn : No dio los mejores resultados para está clasificación, dado que cometé varios errores al momento de clasificar.\n",
    "\n",
    "#### Siguiente iteración :\n",
    "- 1. Seguir exploración de variables e insights.\n",
    "- 2. Ver si ayuda la estandarización, normalización, escalado de datos antes de entrenar los modelos.\n",
    "- 3. Probar otro modelo como : SVC, LogisticRegression, RandomClassifier, etc...\n"
   ]
  }
 ],
 "metadata": {
  "kernelspec": {
   "display_name": "Python 3 (ipykernel)",
   "language": "python",
   "name": "python3"
  },
  "language_info": {
   "codemirror_mode": {
    "name": "ipython",
    "version": 3
   },
   "file_extension": ".py",
   "mimetype": "text/x-python",
   "name": "python",
   "nbconvert_exporter": "python",
   "pygments_lexer": "ipython3",
   "version": "3.9.12"
  }
 },
 "nbformat": 4,
 "nbformat_minor": 5
}
